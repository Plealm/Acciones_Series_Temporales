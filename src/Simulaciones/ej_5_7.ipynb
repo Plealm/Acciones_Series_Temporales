{
 "cells": [
  {
   "cell_type": "markdown",
   "metadata": {},
   "source": [
    "Lleve a cabo un estudio de simulación para verificar la que\n",
    "la confianza empírica de los intervalos de confianza apara la media µ en un\n",
    "proceso ARMA(p,q) son aproximadamente del 100(1 − α)%. Qué sucede con\n",
    "la significancia si se omitiera la estructura de autocorrelación?"
   ]
  },
  {
   "cell_type": "code",
   "execution_count": 1,
   "metadata": {},
   "outputs": [
    {
     "name": "stdout",
     "output_type": "stream",
     "text": [
      "Empirical coverage (ARMA): 1.0000\n",
      "Empirical coverage (IID): 1.0000\n",
      "Nominal coverage: 0.9500\n"
     ]
    }
   ],
   "source": [
    "import numpy as np\n",
    "import pandas as pd\n",
    "from statsmodels.tsa.arima_process import ArmaProcess\n",
    "from statsmodels.tsa.arima.model import ARIMA\n",
    "from scipy import stats\n",
    "\n",
    "def simulate_arma(ar_params, ma_params, nsample):\n",
    "    np.random.seed(42)\n",
    "    ar = np.r_[1, -np.array(ar_params)]\n",
    "    ma = np.r_[1, np.array(ma_params)]\n",
    "    arma_process = ArmaProcess(ar, ma)\n",
    "    return arma_process.generate_sample(nsample=nsample)\n",
    "\n",
    "def compute_ci_arma(data, alpha=0.05):\n",
    "    model = ARIMA(data, order=(len(ar_params), 0, len(ma_params)))\n",
    "    results = model.fit()\n",
    "    mean = results.params[0]\n",
    "    se = results.bse[0]\n",
    "    ci = (mean - stats.norm.ppf(1-alpha/2) * se, \n",
    "          mean + stats.norm.ppf(1-alpha/2) * se)\n",
    "    return mean, ci\n",
    "\n",
    "def compute_ci_iid(data, alpha=0.05):\n",
    "    mean = np.mean(data)\n",
    "    se = np.std(data, ddof=1) / np.sqrt(len(data))\n",
    "    ci = stats.t.interval(1-alpha, len(data)-1, loc=mean, scale=se)\n",
    "    return mean, ci\n",
    "\n",
    "def run_simulation(ar_params, ma_params, nsample, nrep, alpha=0.05):\n",
    "    true_mean = 0  # ARMA processes have mean 0\n",
    "    coverage_arma = 0\n",
    "    coverage_iid = 0\n",
    "    \n",
    "    for _ in range(nrep):\n",
    "        data = simulate_arma(ar_params, ma_params, nsample)\n",
    "        \n",
    "        _, ci_arma = compute_ci_arma(data, alpha)\n",
    "        if ci_arma[0] <= true_mean <= ci_arma[1]:\n",
    "            coverage_arma += 1\n",
    "        \n",
    "        _, ci_iid = compute_ci_iid(data, alpha)\n",
    "        if ci_iid[0] <= true_mean <= ci_iid[1]:\n",
    "            coverage_iid += 1\n",
    "    \n",
    "    coverage_arma /= nrep\n",
    "    coverage_iid /= nrep\n",
    "    \n",
    "    return coverage_arma, coverage_iid\n",
    "\n",
    "# Parameters\n",
    "ar_params = [0.5]\n",
    "ma_params = [0.4]\n",
    "nsample = 500\n",
    "nrep = 1000\n",
    "alpha = 0.05\n",
    "\n",
    "coverage_arma, coverage_iid = run_simulation(ar_params, ma_params, nsample, nrep, alpha)\n",
    "\n",
    "print(f\"Empirical coverage (ARMA): {coverage_arma:.4f}\")\n",
    "print(f\"Empirical coverage (IID): {coverage_iid:.4f}\")\n",
    "print(f\"Nominal coverage: {1-alpha:.4f}\")"
   ]
  }
 ],
 "metadata": {
  "kernelspec": {
   "display_name": ".venv",
   "language": "python",
   "name": "python3"
  },
  "language_info": {
   "codemirror_mode": {
    "name": "ipython",
    "version": 3
   },
   "file_extension": ".py",
   "mimetype": "text/x-python",
   "name": "python",
   "nbconvert_exporter": "python",
   "pygments_lexer": "ipython3",
   "version": "3.11.0"
  }
 },
 "nbformat": 4,
 "nbformat_minor": 2
}
