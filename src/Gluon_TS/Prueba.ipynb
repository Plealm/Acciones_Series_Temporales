{
 "cells": [
  {
   "cell_type": "code",
   "execution_count": 13,
   "metadata": {},
   "outputs": [
    {
     "name": "stdout",
     "output_type": "stream",
     "text": [
      "Collecting gluonts[mxnet]\n",
      "  Using cached gluonts-0.15.1-py3-none-any.whl.metadata (9.9 kB)\n",
      "Collecting numpy~=1.16 (from gluonts[mxnet])\n",
      "  Using cached numpy-1.26.4-cp311-cp311-manylinux_2_17_x86_64.manylinux2014_x86_64.whl.metadata (61 kB)\n",
      "Collecting pandas<3,>=1.0 (from gluonts[mxnet])\n",
      "  Using cached pandas-2.2.2-cp311-cp311-manylinux_2_17_x86_64.manylinux2014_x86_64.whl.metadata (19 kB)\n",
      "Collecting pydantic<3,>=1.7 (from gluonts[mxnet])\n",
      "  Using cached pydantic-2.9.1-py3-none-any.whl.metadata (146 kB)\n",
      "Collecting tqdm~=4.23 (from gluonts[mxnet])\n",
      "  Using cached tqdm-4.66.5-py3-none-any.whl.metadata (57 kB)\n",
      "Collecting toolz~=0.10 (from gluonts[mxnet])\n",
      "  Using cached toolz-0.12.1-py3-none-any.whl.metadata (5.1 kB)\n",
      "Requirement already satisfied: typing-extensions~=4.0 in /home/plealm/Documentos/Unal/Maestria/1_Semestre/Series_Temporales/codigo/acciones/.venv/lib/python3.11/site-packages (from gluonts[mxnet]) (4.12.2)\n",
      "Collecting numpy~=1.16 (from gluonts[mxnet])\n",
      "  Using cached numpy-1.23.5-cp311-cp311-manylinux_2_17_x86_64.manylinux2014_x86_64.whl.metadata (2.3 kB)\n",
      "Collecting mxnet~=1.7 (from gluonts[mxnet])\n",
      "  Using cached mxnet-1.9.1-py3-none-manylinux2014_x86_64.whl.metadata (3.4 kB)\n",
      "Collecting requests<3,>=2.20.0 (from mxnet~=1.7->gluonts[mxnet])\n",
      "  Using cached requests-2.32.3-py3-none-any.whl.metadata (4.6 kB)\n",
      "Collecting graphviz<0.9.0,>=0.8.1 (from mxnet~=1.7->gluonts[mxnet])\n",
      "  Using cached graphviz-0.8.4-py2.py3-none-any.whl.metadata (6.4 kB)\n",
      "Requirement already satisfied: python-dateutil>=2.8.2 in /home/plealm/Documentos/Unal/Maestria/1_Semestre/Series_Temporales/codigo/acciones/.venv/lib/python3.11/site-packages (from pandas<3,>=1.0->gluonts[mxnet]) (2.9.0.post0)\n",
      "Collecting pytz>=2020.1 (from pandas<3,>=1.0->gluonts[mxnet])\n",
      "  Using cached pytz-2024.2-py2.py3-none-any.whl.metadata (22 kB)\n",
      "Collecting tzdata>=2022.7 (from pandas<3,>=1.0->gluonts[mxnet])\n",
      "  Using cached tzdata-2024.1-py2.py3-none-any.whl.metadata (1.4 kB)\n",
      "Collecting annotated-types>=0.6.0 (from pydantic<3,>=1.7->gluonts[mxnet])\n",
      "  Using cached annotated_types-0.7.0-py3-none-any.whl.metadata (15 kB)\n",
      "Collecting pydantic-core==2.23.3 (from pydantic<3,>=1.7->gluonts[mxnet])\n",
      "  Using cached pydantic_core-2.23.3-cp311-cp311-manylinux_2_17_x86_64.manylinux2014_x86_64.whl.metadata (6.6 kB)\n",
      "Requirement already satisfied: six>=1.5 in /home/plealm/Documentos/Unal/Maestria/1_Semestre/Series_Temporales/codigo/acciones/.venv/lib/python3.11/site-packages (from python-dateutil>=2.8.2->pandas<3,>=1.0->gluonts[mxnet]) (1.16.0)\n",
      "Collecting charset-normalizer<4,>=2 (from requests<3,>=2.20.0->mxnet~=1.7->gluonts[mxnet])\n",
      "  Using cached charset_normalizer-3.3.2-cp311-cp311-manylinux_2_17_x86_64.manylinux2014_x86_64.whl.metadata (33 kB)\n",
      "Collecting idna<4,>=2.5 (from requests<3,>=2.20.0->mxnet~=1.7->gluonts[mxnet])\n",
      "  Using cached idna-3.10-py3-none-any.whl.metadata (10 kB)\n",
      "Collecting urllib3<3,>=1.21.1 (from requests<3,>=2.20.0->mxnet~=1.7->gluonts[mxnet])\n",
      "  Using cached urllib3-2.2.3-py3-none-any.whl.metadata (6.5 kB)\n",
      "Collecting certifi>=2017.4.17 (from requests<3,>=2.20.0->mxnet~=1.7->gluonts[mxnet])\n",
      "  Using cached certifi-2024.8.30-py3-none-any.whl.metadata (2.2 kB)\n",
      "Using cached mxnet-1.9.1-py3-none-manylinux2014_x86_64.whl (49.1 MB)\n",
      "Using cached numpy-1.23.5-cp311-cp311-manylinux_2_17_x86_64.manylinux2014_x86_64.whl (17.1 MB)\n",
      "Using cached pandas-2.2.2-cp311-cp311-manylinux_2_17_x86_64.manylinux2014_x86_64.whl (13.0 MB)\n",
      "Using cached pydantic-2.9.1-py3-none-any.whl (434 kB)\n",
      "Using cached pydantic_core-2.23.3-cp311-cp311-manylinux_2_17_x86_64.manylinux2014_x86_64.whl (2.1 MB)\n",
      "Using cached toolz-0.12.1-py3-none-any.whl (56 kB)\n",
      "Using cached tqdm-4.66.5-py3-none-any.whl (78 kB)\n",
      "Using cached gluonts-0.15.1-py3-none-any.whl (1.5 MB)\n",
      "Using cached annotated_types-0.7.0-py3-none-any.whl (13 kB)\n",
      "Using cached graphviz-0.8.4-py2.py3-none-any.whl (16 kB)\n",
      "Using cached pytz-2024.2-py2.py3-none-any.whl (508 kB)\n",
      "Using cached requests-2.32.3-py3-none-any.whl (64 kB)\n",
      "Using cached tzdata-2024.1-py2.py3-none-any.whl (345 kB)\n",
      "Using cached certifi-2024.8.30-py3-none-any.whl (167 kB)\n",
      "Using cached charset_normalizer-3.3.2-cp311-cp311-manylinux_2_17_x86_64.manylinux2014_x86_64.whl (140 kB)\n",
      "Using cached idna-3.10-py3-none-any.whl (70 kB)\n",
      "Using cached urllib3-2.2.3-py3-none-any.whl (126 kB)\n",
      "Installing collected packages: pytz, urllib3, tzdata, tqdm, toolz, pydantic-core, numpy, idna, graphviz, charset-normalizer, certifi, annotated-types, requests, pydantic, pandas, mxnet, gluonts\n",
      "  Attempting uninstall: numpy\n",
      "    Found existing installation: numpy 2.1.1\n",
      "    Uninstalling numpy-2.1.1:\n",
      "      Successfully uninstalled numpy-2.1.1\n",
      "Successfully installed annotated-types-0.7.0 certifi-2024.8.30 charset-normalizer-3.3.2 gluonts-0.15.1 graphviz-0.8.4 idna-3.10 mxnet-1.9.1 numpy-1.23.5 pandas-2.2.2 pydantic-2.9.1 pydantic-core-2.23.3 pytz-2024.2 requests-2.32.3 toolz-0.12.1 tqdm-4.66.5 tzdata-2024.1 urllib3-2.2.3\n",
      "Note: you may need to restart the kernel to use updated packages.\n"
     ]
    }
   ],
   "source": [
    "pip install \"gluonts[mxnet]\" "
   ]
  },
  {
   "cell_type": "code",
   "execution_count": 11,
   "metadata": {},
   "outputs": [
    {
     "name": "stdout",
     "output_type": "stream",
     "text": [
      "Collecting matplotlib\n",
      "  Using cached matplotlib-3.9.2-cp311-cp311-manylinux_2_17_x86_64.manylinux2014_x86_64.whl.metadata (11 kB)\n",
      "Collecting contourpy>=1.0.1 (from matplotlib)\n",
      "  Using cached contourpy-1.3.0-cp311-cp311-manylinux_2_17_x86_64.manylinux2014_x86_64.whl.metadata (5.4 kB)\n",
      "Collecting cycler>=0.10 (from matplotlib)\n",
      "  Using cached cycler-0.12.1-py3-none-any.whl.metadata (3.8 kB)\n",
      "Collecting fonttools>=4.22.0 (from matplotlib)\n",
      "  Using cached fonttools-4.53.1-cp311-cp311-manylinux_2_17_x86_64.manylinux2014_x86_64.whl.metadata (162 kB)\n",
      "Collecting kiwisolver>=1.3.1 (from matplotlib)\n",
      "  Using cached kiwisolver-1.4.7-cp311-cp311-manylinux_2_17_x86_64.manylinux2014_x86_64.whl.metadata (6.3 kB)\n",
      "Collecting numpy>=1.23 (from matplotlib)\n",
      "  Using cached numpy-2.1.1-cp311-cp311-manylinux_2_17_x86_64.manylinux2014_x86_64.whl.metadata (60 kB)\n",
      "Requirement already satisfied: packaging>=20.0 in /home/plealm/Documentos/Unal/Maestria/1_Semestre/Series_Temporales/codigo/acciones/.venv/lib/python3.11/site-packages (from matplotlib) (24.1)\n",
      "Collecting pillow>=8 (from matplotlib)\n",
      "  Using cached pillow-10.4.0-cp311-cp311-manylinux_2_28_x86_64.whl.metadata (9.2 kB)\n",
      "Collecting pyparsing>=2.3.1 (from matplotlib)\n",
      "  Using cached pyparsing-3.1.4-py3-none-any.whl.metadata (5.1 kB)\n",
      "Requirement already satisfied: python-dateutil>=2.7 in /home/plealm/Documentos/Unal/Maestria/1_Semestre/Series_Temporales/codigo/acciones/.venv/lib/python3.11/site-packages (from matplotlib) (2.9.0.post0)\n",
      "Requirement already satisfied: six>=1.5 in /home/plealm/Documentos/Unal/Maestria/1_Semestre/Series_Temporales/codigo/acciones/.venv/lib/python3.11/site-packages (from python-dateutil>=2.7->matplotlib) (1.16.0)\n",
      "Using cached matplotlib-3.9.2-cp311-cp311-manylinux_2_17_x86_64.manylinux2014_x86_64.whl (8.3 MB)\n",
      "Using cached contourpy-1.3.0-cp311-cp311-manylinux_2_17_x86_64.manylinux2014_x86_64.whl (323 kB)\n",
      "Using cached cycler-0.12.1-py3-none-any.whl (8.3 kB)\n",
      "Using cached fonttools-4.53.1-cp311-cp311-manylinux_2_17_x86_64.manylinux2014_x86_64.whl (4.9 MB)\n",
      "Using cached kiwisolver-1.4.7-cp311-cp311-manylinux_2_17_x86_64.manylinux2014_x86_64.whl (1.4 MB)\n",
      "Using cached numpy-2.1.1-cp311-cp311-manylinux_2_17_x86_64.manylinux2014_x86_64.whl (16.3 MB)\n",
      "Using cached pillow-10.4.0-cp311-cp311-manylinux_2_28_x86_64.whl (4.5 MB)\n",
      "Using cached pyparsing-3.1.4-py3-none-any.whl (104 kB)\n",
      "Installing collected packages: pyparsing, pillow, numpy, kiwisolver, fonttools, cycler, contourpy, matplotlib\n",
      "Successfully installed contourpy-1.3.0 cycler-0.12.1 fonttools-4.53.1 kiwisolver-1.4.7 matplotlib-3.9.2 numpy-2.1.1 pillow-10.4.0 pyparsing-3.1.4\n",
      "Note: you may need to restart the kernel to use updated packages.\n"
     ]
    }
   ],
   "source": [
    "pip install matplotlib"
   ]
  },
  {
   "cell_type": "code",
   "execution_count": 12,
   "metadata": {},
   "outputs": [
    {
     "name": "stderr",
     "output_type": "stream",
     "text": [
      "/home/plealm/Documentos/Unal/Maestria/1_Semestre/Series_Temporales/codigo/acciones/.venv/lib/python3.11/site-packages/gluonts/json.py:102: UserWarning: Using `json`-module for json-handling. Consider installing one of `orjson`, `ujson` to speed up serialization and deserialization.\n",
      "  warnings.warn(\n"
     ]
    }
   ],
   "source": [
    "%matplotlib inline\n",
    "import numpy as np\n",
    "import pandas as pd\n",
    "import matplotlib.pyplot as plt\n",
    "import json\n",
    "from gluonts.dataset.repository import get_dataset, dataset_names\n",
    "from gluonts.dataset.util import to_pandas"
   ]
  },
  {
   "cell_type": "code",
   "execution_count": 13,
   "metadata": {},
   "outputs": [
    {
     "name": "stdout",
     "output_type": "stream",
     "text": [
      "Available datasets: ['constant', 'exchange_rate', 'solar-energy', 'electricity', 'traffic', 'exchange_rate_nips', 'electricity_nips', 'traffic_nips', 'solar_nips', 'wiki2000_nips', 'wiki-rolling_nips', 'taxi_30min', 'kaggle_web_traffic_with_missing', 'kaggle_web_traffic_without_missing', 'kaggle_web_traffic_weekly', 'm1_yearly', 'm1_quarterly', 'm1_monthly', 'nn5_daily_with_missing', 'nn5_daily_without_missing', 'nn5_weekly', 'tourism_monthly', 'tourism_quarterly', 'tourism_yearly', 'cif_2016', 'london_smart_meters_without_missing', 'wind_farms_without_missing', 'car_parts_without_missing', 'dominick', 'fred_md', 'pedestrian_counts', 'hospital', 'covid_deaths', 'kdd_cup_2018_without_missing', 'weather', 'm3_monthly', 'm3_quarterly', 'm3_yearly', 'm3_other', 'm4_hourly', 'm4_daily', 'm4_weekly', 'm4_monthly', 'm4_quarterly', 'm4_yearly', 'm5', 'uber_tlc_daily', 'uber_tlc_hourly', 'airpassengers', 'australian_electricity_demand', 'electricity_hourly', 'electricity_weekly', 'rideshare_without_missing', 'saugeenday', 'solar_10_minutes', 'solar_weekly', 'sunspot_without_missing', 'temperature_rain_without_missing', 'vehicle_trips_without_missing', 'ercot', 'ett_small_15min', 'ett_small_1h']\n"
     ]
    }
   ],
   "source": [
    "print(f\"Available datasets: {dataset_names}\")"
   ]
  },
  {
   "cell_type": "code",
   "execution_count": 14,
   "metadata": {},
   "outputs": [],
   "source": [
    "dataset = get_dataset(\"m4_hourly\")"
   ]
  },
  {
   "cell_type": "code",
   "execution_count": 15,
   "metadata": {},
   "outputs": [
    {
     "name": "stderr",
     "output_type": "stream",
     "text": [
      "/home/plealm/Documentos/Unal/Maestria/1_Semestre/Series_Temporales/codigo/acciones/.venv/lib/python3.11/site-packages/gluonts/dataset/common.py:263: FutureWarning: 'H' is deprecated and will be removed in a future version, please use 'h' instead.\n",
      "  return pd.Period(val, freq)\n"
     ]
    },
    {
     "data": {
      "image/png": "[encoded data removed]",
      "text/plain": [
       "<Figure size 640x480 with 1 Axes>"
      ]
     },
     "metadata": {},
     "output_type": "display_data"
    }
   ],
   "source": [
    "entry = next(iter(dataset.train))\n",
    "train_series = to_pandas(entry)\n",
    "train_series.plot()\n",
    "plt.grid(which=\"both\")\n",
    "plt.legend([\"train series\"], loc=\"upper left\")\n",
    "plt.show()"
   ]
  },
  {
   "cell_type": "code",
   "execution_count": 16,
   "metadata": {},
   "outputs": [
    {
     "data": {
      "image/png": "[encoded data removed]",
      "text/plain": [
       "<Figure size 640x480 with 1 Axes>"
      ]
     },
     "metadata": {},
     "output_type": "display_data"
    }
   ],
   "source": [
    "entry = next(iter(dataset.test))\n",
    "test_series = to_pandas(entry)\n",
    "test_series.plot()\n",
    "plt.axvline(train_series.index[-1], color=\"r\")  # end of train dataset\n",
    "plt.grid(which=\"both\")\n",
    "plt.legend([\"test series\", \"end of train series\"], loc=\"upper left\")\n",
    "plt.show()"
   ]
  },
  {
   "cell_type": "code",
   "execution_count": 17,
   "metadata": {},
   "outputs": [],
   "source": [
    "from gluonts.mx import SimpleFeedForwardEstimator, Trainer\n",
    "\n",
    "estimator = SimpleFeedForwardEstimator(\n",
    "    num_hidden_dimensions=[10],\n",
    "    prediction_length=dataset.metadata.prediction_length,\n",
    "    context_length=100,\n",
    "    trainer=Trainer(ctx=\"cpu\", epochs=5, learning_rate=1e-3, num_batches_per_epoch=100),\n",
    ")"
   ]
  },
  {
   "cell_type": "code",
   "execution_count": 12,
   "metadata": {},
   "outputs": [
    {
     "name": "stderr",
     "output_type": "stream",
     "text": [
      "/home/plealm/Documentos/Unal/Maestria/1_Semestre/Series_Temporales/codigo/acciones/.venv/lib/python3.11/site-packages/gluonts/json.py:102: UserWarning: Using `json`-module for json-handling. Consider installing one of `orjson`, `ujson` to speed up serialization and deserialization.\n",
      "  warnings.warn(\n"
     ]
    },
    {
     "ename": "NameError",
     "evalue": "name 'estimator' is not defined",
     "output_type": "error",
     "traceback": [
      "\u001b[0;31m---------------------------------------------------------------------------\u001b[0m",
      "\u001b[0;31mNameError\u001b[0m                                 Traceback (most recent call last)",
      "Cell \u001b[0;32mIn[5], line 3\u001b[0m\n\u001b[1;32m      1\u001b[0m \u001b[38;5;28;01mfrom\u001b[39;00m \u001b[38;5;21;01mgluonts\u001b[39;00m\u001b[38;5;21;01m.\u001b[39;00m\u001b[38;5;21;01mevaluation\u001b[39;00m \u001b[38;5;28;01mimport\u001b[39;00m make_evaluation_predictions\n\u001b[0;32m----> 3\u001b[0m predictor \u001b[38;5;241m=\u001b[39m \u001b[43mestimator\u001b[49m\u001b[38;5;241m.\u001b[39mtrain(dataset\u001b[38;5;241m.\u001b[39mtrain)\n\u001b[1;32m      5\u001b[0m forecast_it, ts_it \u001b[38;5;241m=\u001b[39m make_evaluation_predictions(\n\u001b[1;32m      6\u001b[0m     dataset\u001b[38;5;241m=\u001b[39mdataset\u001b[38;5;241m.\u001b[39mtest,  \u001b[38;5;66;03m# test dataset\u001b[39;00m\n\u001b[1;32m      7\u001b[0m     predictor\u001b[38;5;241m=\u001b[39mpredictor,  \u001b[38;5;66;03m# predictor\u001b[39;00m\n\u001b[1;32m      8\u001b[0m     num_samples\u001b[38;5;241m=\u001b[39m\u001b[38;5;241m100\u001b[39m,  \u001b[38;5;66;03m# number of sample paths we want for evaluation\u001b[39;00m\n\u001b[1;32m      9\u001b[0m )\n",
      "\u001b[0;31mNameError\u001b[0m: name 'estimator' is not defined"
     ]
    }
   ],
   "source": [
    "from gluonts.evaluation import make_evaluation_predictions\n",
    "\n",
    "predictor = estimator.train(dataset.train)\n",
    "\n",
    "forecast_it, ts_it = make_evaluation_predictions(\n",
    "    dataset=dataset.test,  # test dataset\n",
    "    predictor=predictor,  # predictor\n",
    "    num_samples=100,  # number of sample paths we want for evaluation\n",
    ")"
   ]
  },
  {
   "cell_type": "code",
   "execution_count": 13,
   "metadata": {},
   "outputs": [],
   "source": [
    "forecasts = list(forecast_it)\n",
    "tss = list(ts_it)"
   ]
  },
  {
   "cell_type": "code",
   "execution_count": 16,
   "metadata": {},
   "outputs": [],
   "source": [
    "ts_entry = tss[0]\n",
    "forecast_entry = forecasts[0]"
   ]
  },
  {
   "cell_type": "code",
   "execution_count": 17,
   "metadata": {},
   "outputs": [
    {
     "data": {
      "text/plain": [
       "<matplotlib.legend.Legend at 0x7b30ee4acf10>"
      ]
     },
     "execution_count": 10,
     "metadata": {},
     "output_type": "execute_result"
    },
    {
     "data": {
      "image/png": "[encoded data removed]",
      "text/plain": [
       "<Figure size 640x480 with 1 Axes>"
      ]
     },
     "metadata": {},
     "output_type": "display_data"
    }
   ],
   "source": [
    "plt.plot(ts_entry[-150:].to_timestamp())\n",
    "forecast_entry.plot(show_label=True)\n",
    "plt.legend()"
   ]
  },
  {
   "cell_type": "code",
   "execution_count": 1,
   "metadata": {},
   "outputs": [
    {
     "name": "stderr",
     "output_type": "stream",
     "text": [
      "/home/plealm/Documentos/Unal/Maestria/1_Semestre/Series_Temporales/codigo/acciones/.venv/lib/python3.11/site-packages/gluonts/json.py:102: UserWarning: Using `json`-module for json-handling. Consider installing one of `orjson`, `ujson` to speed up serialization and deserialization.\n",
      "  warnings.warn(\n",
      "/home/plealm/Documentos/Unal/Maestria/1_Semestre/Series_Temporales/codigo/acciones/.venv/lib/python3.11/site-packages/gluonts/dataset/common.py:255: FutureWarning: 'M' is deprecated and will be removed in a future version, please use 'ME' instead.\n",
      "  ProcessDataEntry(to_offset(freq), one_dim_target, use_timestamp),\n",
      "/home/plealm/Documentos/Unal/Maestria/1_Semestre/Series_Temporales/codigo/acciones/.venv/lib/python3.11/site-packages/gluonts/time_feature/lag.py:104: FutureWarning: 'M' is deprecated and will be removed in a future version, please use 'ME' instead.\n",
      "  offset = to_offset(freq_str)\n",
      "/home/plealm/Documentos/Unal/Maestria/1_Semestre/Series_Temporales/codigo/acciones/.venv/lib/python3.11/site-packages/gluonts/time_feature/_base.py:249: FutureWarning: 'M' is deprecated and will be removed in a future version, please use 'ME' instead.\n",
      "  offset = to_offset(freq_str)\n",
      "100%|██████████| 100/100 [00:03<00:00, 28.87it/s, epoch=1/50, avg_epoch_loss=4.39]\n",
      "100%|██████████| 100/100 [00:03<00:00, 30.80it/s, epoch=2/50, avg_epoch_loss=3.3]\n",
      "100%|██████████| 100/100 [00:03<00:00, 30.45it/s, epoch=3/50, avg_epoch_loss=2.74]\n",
      "100%|██████████| 100/100 [00:03<00:00, 30.16it/s, epoch=4/50, avg_epoch_loss=2.48]\n",
      "100%|██████████| 100/100 [00:03<00:00, 30.76it/s, epoch=5/50, avg_epoch_loss=2.5]\n",
      "100%|██████████| 100/100 [00:03<00:00, 30.10it/s, epoch=6/50, avg_epoch_loss=2.34]\n",
      "100%|██████████| 100/100 [00:03<00:00, 26.54it/s, epoch=7/50, avg_epoch_loss=2.64]\n",
      "100%|██████████| 100/100 [00:03<00:00, 31.25it/s, epoch=8/50, avg_epoch_loss=2.22]\n",
      "100%|██████████| 100/100 [00:03<00:00, 30.58it/s, epoch=9/50, avg_epoch_loss=2.59]\n",
      "100%|██████████| 100/100 [00:04<00:00, 24.09it/s, epoch=10/50, avg_epoch_loss=2.27]\n",
      "100%|██████████| 100/100 [00:03<00:00, 30.63it/s, epoch=11/50, avg_epoch_loss=2.25]\n",
      "100%|██████████| 100/100 [00:03<00:00, 30.48it/s, epoch=12/50, avg_epoch_loss=2.1]\n",
      "100%|██████████| 100/100 [00:03<00:00, 30.22it/s, epoch=13/50, avg_epoch_loss=2.22]\n",
      "100%|██████████| 100/100 [00:03<00:00, 29.33it/s, epoch=14/50, avg_epoch_loss=2.06]\n",
      "100%|██████████| 100/100 [00:03<00:00, 26.85it/s, epoch=15/50, avg_epoch_loss=2.03]\n",
      "100%|██████████| 100/100 [00:03<00:00, 30.97it/s, epoch=16/50, avg_epoch_loss=1.98]\n",
      "100%|██████████| 100/100 [00:03<00:00, 31.12it/s, epoch=17/50, avg_epoch_loss=1.96]\n",
      "100%|██████████| 100/100 [00:03<00:00, 27.55it/s, epoch=18/50, avg_epoch_loss=1.98]\n",
      "100%|██████████| 100/100 [00:03<00:00, 29.61it/s, epoch=19/50, avg_epoch_loss=2.05]\n",
      "100%|██████████| 100/100 [00:03<00:00, 31.43it/s, epoch=20/50, avg_epoch_loss=2.08]\n",
      "100%|██████████| 100/100 [00:03<00:00, 32.82it/s, epoch=21/50, avg_epoch_loss=2.05]\n",
      "100%|██████████| 100/100 [00:03<00:00, 32.06it/s, epoch=22/50, avg_epoch_loss=2.06]\n",
      "100%|██████████| 100/100 [00:02<00:00, 33.39it/s, epoch=23/50, avg_epoch_loss=2.05]\n",
      "100%|██████████| 100/100 [00:03<00:00, 33.11it/s, epoch=24/50, avg_epoch_loss=2.04]\n",
      "100%|██████████| 100/100 [00:02<00:00, 33.36it/s, epoch=25/50, avg_epoch_loss=2]\n",
      "100%|██████████| 100/100 [00:03<00:00, 32.28it/s, epoch=26/50, avg_epoch_loss=1.85]\n",
      "100%|██████████| 100/100 [00:02<00:00, 33.55it/s, epoch=27/50, avg_epoch_loss=1.82]\n",
      "100%|██████████| 100/100 [00:02<00:00, 33.50it/s, epoch=28/50, avg_epoch_loss=1.82]\n",
      "100%|██████████| 100/100 [00:02<00:00, 33.68it/s, epoch=29/50, avg_epoch_loss=1.8]\n",
      "100%|██████████| 100/100 [00:03<00:00, 32.71it/s, epoch=30/50, avg_epoch_loss=1.79]\n",
      "100%|██████████| 100/100 [00:02<00:00, 33.58it/s, epoch=31/50, avg_epoch_loss=1.78]\n",
      "100%|██████████| 100/100 [00:02<00:00, 33.67it/s, epoch=32/50, avg_epoch_loss=1.83]\n",
      "100%|██████████| 100/100 [00:03<00:00, 32.35it/s, epoch=33/50, avg_epoch_loss=1.75]\n",
      "100%|██████████| 100/100 [00:03<00:00, 32.16it/s, epoch=34/50, avg_epoch_loss=1.73]\n",
      "100%|██████████| 100/100 [00:02<00:00, 34.02it/s, epoch=35/50, avg_epoch_loss=1.71]\n",
      "100%|██████████| 100/100 [00:02<00:00, 33.82it/s, epoch=36/50, avg_epoch_loss=1.7]\n",
      "100%|██████████| 100/100 [00:03<00:00, 33.14it/s, epoch=37/50, avg_epoch_loss=1.7]\n",
      "100%|██████████| 100/100 [00:03<00:00, 32.80it/s, epoch=38/50, avg_epoch_loss=1.71]\n",
      "100%|██████████| 100/100 [00:03<00:00, 32.42it/s, epoch=39/50, avg_epoch_loss=1.67]\n",
      "100%|██████████| 100/100 [00:03<00:00, 32.69it/s, epoch=40/50, avg_epoch_loss=1.67]\n",
      "100%|██████████| 100/100 [00:03<00:00, 31.23it/s, epoch=41/50, avg_epoch_loss=1.67]\n",
      "100%|██████████| 100/100 [00:03<00:00, 32.70it/s, epoch=42/50, avg_epoch_loss=1.64]\n",
      "100%|██████████| 100/100 [00:03<00:00, 33.06it/s, epoch=43/50, avg_epoch_loss=1.64]\n",
      "100%|██████████| 100/100 [00:03<00:00, 31.36it/s, epoch=44/50, avg_epoch_loss=1.64]\n",
      "100%|██████████| 100/100 [00:03<00:00, 32.44it/s, epoch=45/50, avg_epoch_loss=1.63]\n",
      "100%|██████████| 100/100 [00:03<00:00, 31.44it/s, epoch=46/50, avg_epoch_loss=1.62]\n",
      "100%|██████████| 100/100 [00:03<00:00, 32.20it/s, epoch=47/50, avg_epoch_loss=1.61]\n",
      "100%|██████████| 100/100 [00:03<00:00, 31.77it/s, epoch=48/50, avg_epoch_loss=1.61]\n",
      "100%|██████████| 100/100 [00:03<00:00, 32.52it/s, epoch=49/50, avg_epoch_loss=1.57]\n",
      "100%|██████████| 100/100 [00:03<00:00, 32.34it/s, epoch=50/50, avg_epoch_loss=1.74]\n",
      "/home/plealm/Documentos/Unal/Maestria/1_Semestre/Series_Temporales/codigo/acciones/.venv/lib/python3.11/site-packages/gluonts/dataset/common.py:255: FutureWarning: 'M' is deprecated and will be removed in a future version, please use 'ME' instead.\n",
      "  ProcessDataEntry(to_offset(freq), one_dim_target, use_timestamp),\n"
     ]
    },
    {
     "data": {
      "image/png": "[encoded data removed]",
      "text/plain": [
       "<Figure size 1200x600 with 1 Axes>"
      ]
     },
     "metadata": {},
     "output_type": "display_data"
    },
    {
     "name": "stdout",
     "output_type": "stream",
     "text": [
      "Predicción media: 111.74\n",
      "Intervalo de predicción (80%): [98.69, 124.24]\n"
     ]
    },
    {
     "data": {
      "image/png": "[encoded data removed]",
      "text/plain": [
       "<Figure size 1000x600 with 1 Axes>"
      ]
     },
     "metadata": {},
     "output_type": "display_data"
    }
   ],
   "source": [
    "import numpy as np\n",
    "import pandas as pd\n",
    "import matplotlib.pyplot as plt\n",
    "import mxnet as mx\n",
    "from gluonts.dataset.common import ListDataset\n",
    "from gluonts.mx.model.deepar import DeepAREstimator\n",
    "from gluonts.mx.trainer import Trainer\n",
    "from gluonts.evaluation.backtest import make_evaluation_predictions\n",
    "# Configurar semilla para reproducibilidad\n",
    "np.random.seed(42)\n",
    "mx.random.seed(42)\n",
    "# Generar serie de tiempo simulada\n",
    "start_date = pd.Timestamp(\"2019-01-01\")\n",
    "num_samples = 100\n",
    "time_series = np.random.normal(loc=100, scale=10, size=num_samples) + \\\n",
    "              np.sin(np.arange(num_samples) * 2 * np.pi / 12) * 20  # Patrón anual\n",
    "# Crear dataset\n",
    "train_ds = ListDataset(\n",
    "    [{\"start\": start_date, \"target\": time_series[:-1]}],\n",
    "    freq=\"M\"\n",
    ")\n",
    "# Configurar y entrenar el modelo DeepAR\n",
    "estimator = DeepAREstimator(\n",
    "    freq=\"M\",\n",
    "    prediction_length=1,\n",
    "    trainer=Trainer(epochs=50, num_batches_per_epoch=100)\n",
    ")\n",
    "predictor = estimator.train(train_ds)\n",
    "# Realizar predicciones\n",
    "forecast_it, ts_it = make_evaluation_predictions(\n",
    "    dataset=ListDataset(\n",
    "        [{\"start\": start_date, \"target\": time_series}],\n",
    "        freq=\"M\"\n",
    "    ),\n",
    "    predictor=predictor,\n",
    "    num_samples=100\n",
    ")\n",
    "forecasts = list(forecast_it)\n",
    "tss = list(ts_it)\n",
    "# Extraer la media y los intervalos de confianza\n",
    "mean_forecast = forecasts[0].mean\n",
    "lower_quantiles = forecasts[0].quantile(0.1)\n",
    "upper_quantiles = forecasts[0].quantile(0.9)\n",
    "# Visualizar resultados\n",
    "plt.figure(figsize=(12, 6))\n",
    "plt.plot(time_series, label='Datos reales')\n",
    "plt.plot(range(num_samples-1, num_samples), mean_forecast, 'ro', label='Predicción media')\n",
    "plt.fill_between([num_samples-1], lower_quantiles, upper_quantiles, color='r', alpha=0.3, label='Intervalo de predicción (80%)')\n",
    "plt.legend()\n",
    "plt.title('Predicción DeepAR con intervalos de confianza')\n",
    "plt.xlabel('Tiempo (meses)')\n",
    "plt.ylabel('Valor')\n",
    "plt.show()\n",
    "# Mostrar predicción probabilística\n",
    "print(f\"Predicción media: {mean_forecast[0]:.2f}\")\n",
    "print(f\"Intervalo de predicción (80%): [{lower_quantiles[0]:.2f}, {upper_quantiles[0]:.2f}]\")\n",
    "# Histograma de las muestras de predicción\n",
    "samples = forecasts[0].samples\n",
    "plt.figure(figsize=(10, 6))\n",
    "plt.hist(samples, bins=30, density=True, alpha=0.7)\n",
    "plt.axvline(mean_forecast[0], color='r', linestyle='dashed', linewidth=2, label='Media')\n",
    "plt.axvline(lower_quantiles[0], color='g', linestyle='dashed', linewidth=2, label='10% cuantil')\n",
    "plt.axvline(upper_quantiles[0], color='g', linestyle='dashed', linewidth=2, label='90% cuantil')\n",
    "plt.title('Distribución de la predicción')\n",
    "plt.xlabel('Valor predicho')\n",
    "plt.ylabel('Densidad')\n",
    "plt.legend()\n",
    "plt.show()"
   ]
  },
  {
   "cell_type": "code",
   "execution_count": 3,
   "metadata": {},
   "outputs": [
    {
     "name": "stderr",
     "output_type": "stream",
     "text": [
      "/home/plealm/Documentos/Unal/Maestria/1_Semestre/Series_Temporales/codigo/acciones/.venv/lib/python3.11/site-packages/gluonts/json.py:102: UserWarning: Using `json`-module for json-handling. Consider installing one of `orjson`, `ujson` to speed up serialization and deserialization.\n",
      "  warnings.warn(\n",
      "/home/plealm/Documentos/Unal/Maestria/1_Semestre/Series_Temporales/codigo/acciones/.venv/lib/python3.11/site-packages/torch/cuda/__init__.py:654: UserWarning: Can't initialize NVML\n",
      "  warnings.warn(\"Can't initialize NVML\")\n",
      "GPU available: False, used: False\n",
      "TPU available: False, using: 0 TPU cores\n",
      "IPU available: False, using: 0 IPUs\n",
      "HPU available: False, using: 0 HPUs\n",
      "\n",
      "  | Name  | Type        | Params | In sizes                                                      | Out sizes   \n",
      "---------------------------------------------------------------------------------------------------------------------\n",
      "0 | model | DeepARModel | 19.0 K | [[1, 1], [1, 1], [1, 744, 5], [1, 744], [1, 744], [1, 24, 5]] | [1, 100, 24]\n",
      "---------------------------------------------------------------------------------------------------------------------\n",
      "19.0 K    Trainable params\n",
      "0         Non-trainable params\n",
      "19.0 K    Total params\n",
      "0.076     Total estimated model params size (MB)\n"
     ]
    },
    {
     "name": "stdout",
     "output_type": "stream",
     "text": [
      "Epoch 0: |          | 50/? [00:04<00:00, 11.56it/s, v_num=7, train_loss=6.430]"
     ]
    },
    {
     "name": "stderr",
     "output_type": "stream",
     "text": [
      "Epoch 0, global step 50: 'train_loss' reached 6.42580 (best 6.42580), saving model to '/home/plealm/Documentos/Unal/Maestria/1_Semestre/Series_Temporales/codigo/acciones/src/Gluon_TS/lightning_logs/version_7/checkpoints/epoch=0-step=50.ckpt' as top 1\n"
     ]
    },
    {
     "name": "stdout",
     "output_type": "stream",
     "text": [
      "Epoch 1: |          | 50/? [00:04<00:00, 11.73it/s, v_num=7, train_loss=5.620]"
     ]
    },
    {
     "name": "stderr",
     "output_type": "stream",
     "text": [
      "Epoch 1, global step 100: 'train_loss' reached 5.61738 (best 5.61738), saving model to '/home/plealm/Documentos/Unal/Maestria/1_Semestre/Series_Temporales/codigo/acciones/src/Gluon_TS/lightning_logs/version_7/checkpoints/epoch=1-step=100.ckpt' as top 1\n"
     ]
    },
    {
     "name": "stdout",
     "output_type": "stream",
     "text": [
      "Epoch 2: |          | 50/? [00:04<00:00, 11.79it/s, v_num=7, train_loss=5.540]"
     ]
    },
    {
     "name": "stderr",
     "output_type": "stream",
     "text": [
      "Epoch 2, global step 150: 'train_loss' reached 5.54398 (best 5.54398), saving model to '/home/plealm/Documentos/Unal/Maestria/1_Semestre/Series_Temporales/codigo/acciones/src/Gluon_TS/lightning_logs/version_7/checkpoints/epoch=2-step=150.ckpt' as top 1\n"
     ]
    },
    {
     "name": "stdout",
     "output_type": "stream",
     "text": [
      "Epoch 3: |          | 50/? [00:04<00:00, 11.44it/s, v_num=7, train_loss=5.640]"
     ]
    },
    {
     "name": "stderr",
     "output_type": "stream",
     "text": [
      "Epoch 3, global step 200: 'train_loss' was not in top 1\n"
     ]
    },
    {
     "name": "stdout",
     "output_type": "stream",
     "text": [
      "Epoch 4: |          | 50/? [00:04<00:00, 12.15it/s, v_num=7, train_loss=5.250]"
     ]
    },
    {
     "name": "stderr",
     "output_type": "stream",
     "text": [
      "Epoch 4, global step 250: 'train_loss' reached 5.25067 (best 5.25067), saving model to '/home/plealm/Documentos/Unal/Maestria/1_Semestre/Series_Temporales/codigo/acciones/src/Gluon_TS/lightning_logs/version_7/checkpoints/epoch=4-step=250.ckpt' as top 1\n"
     ]
    },
    {
     "name": "stdout",
     "output_type": "stream",
     "text": [
      "Epoch 5: |          | 50/? [00:04<00:00, 12.13it/s, v_num=7, train_loss=5.070]"
     ]
    },
    {
     "name": "stderr",
     "output_type": "stream",
     "text": [
      "Epoch 5, global step 300: 'train_loss' reached 5.07355 (best 5.07355), saving model to '/home/plealm/Documentos/Unal/Maestria/1_Semestre/Series_Temporales/codigo/acciones/src/Gluon_TS/lightning_logs/version_7/checkpoints/epoch=5-step=300.ckpt' as top 1\n"
     ]
    },
    {
     "name": "stdout",
     "output_type": "stream",
     "text": [
      "Epoch 6: |          | 50/? [00:04<00:00, 11.79it/s, v_num=7, train_loss=4.930]"
     ]
    },
    {
     "name": "stderr",
     "output_type": "stream",
     "text": [
      "Epoch 6, global step 350: 'train_loss' reached 4.92975 (best 4.92975), saving model to '/home/plealm/Documentos/Unal/Maestria/1_Semestre/Series_Temporales/codigo/acciones/src/Gluon_TS/lightning_logs/version_7/checkpoints/epoch=6-step=350.ckpt' as top 1\n"
     ]
    },
    {
     "name": "stdout",
     "output_type": "stream",
     "text": [
      "Epoch 7: |          | 50/? [00:04<00:00, 11.86it/s, v_num=7, train_loss=5.060]"
     ]
    },
    {
     "name": "stderr",
     "output_type": "stream",
     "text": [
      "Epoch 7, global step 400: 'train_loss' was not in top 1\n"
     ]
    },
    {
     "name": "stdout",
     "output_type": "stream",
     "text": [
      "Epoch 8: |          | 50/? [00:04<00:00, 11.86it/s, v_num=7, train_loss=5.120]"
     ]
    },
    {
     "name": "stderr",
     "output_type": "stream",
     "text": [
      "Epoch 8, global step 450: 'train_loss' was not in top 1\n"
     ]
    },
    {
     "name": "stdout",
     "output_type": "stream",
     "text": [
      "Epoch 9: |          | 50/? [00:04<00:00, 11.76it/s, v_num=7, train_loss=5.000]"
     ]
    },
    {
     "name": "stderr",
     "output_type": "stream",
     "text": [
      "Epoch 9, global step 500: 'train_loss' was not in top 1\n"
     ]
    },
    {
     "name": "stdout",
     "output_type": "stream",
     "text": [
      "Epoch 10: |          | 50/? [00:04<00:00, 12.19it/s, v_num=7, train_loss=4.650]"
     ]
    },
    {
     "name": "stderr",
     "output_type": "stream",
     "text": [
      "Epoch 10, global step 550: 'train_loss' reached 4.64657 (best 4.64657), saving model to '/home/plealm/Documentos/Unal/Maestria/1_Semestre/Series_Temporales/codigo/acciones/src/Gluon_TS/lightning_logs/version_7/checkpoints/epoch=10-step=550.ckpt' as top 1\n"
     ]
    },
    {
     "name": "stdout",
     "output_type": "stream",
     "text": [
      "Epoch 11: |          | 50/? [00:04<00:00, 12.17it/s, v_num=7, train_loss=4.680]"
     ]
    },
    {
     "name": "stderr",
     "output_type": "stream",
     "text": [
      "Epoch 11, global step 600: 'train_loss' was not in top 1\n"
     ]
    },
    {
     "name": "stdout",
     "output_type": "stream",
     "text": [
      "Epoch 12: |          | 50/? [00:04<00:00, 11.73it/s, v_num=7, train_loss=4.640]"
     ]
    },
    {
     "name": "stderr",
     "output_type": "stream",
     "text": [
      "Epoch 12, global step 650: 'train_loss' reached 4.63801 (best 4.63801), saving model to '/home/plealm/Documentos/Unal/Maestria/1_Semestre/Series_Temporales/codigo/acciones/src/Gluon_TS/lightning_logs/version_7/checkpoints/epoch=12-step=650.ckpt' as top 1\n"
     ]
    },
    {
     "name": "stdout",
     "output_type": "stream",
     "text": [
      "Epoch 13: |          | 50/? [00:04<00:00, 12.10it/s, v_num=7, train_loss=4.580]"
     ]
    },
    {
     "name": "stderr",
     "output_type": "stream",
     "text": [
      "Epoch 13, global step 700: 'train_loss' reached 4.58465 (best 4.58465), saving model to '/home/plealm/Documentos/Unal/Maestria/1_Semestre/Series_Temporales/codigo/acciones/src/Gluon_TS/lightning_logs/version_7/checkpoints/epoch=13-step=700.ckpt' as top 1\n"
     ]
    },
    {
     "name": "stdout",
     "output_type": "stream",
     "text": [
      "Epoch 14: |          | 50/? [00:04<00:00, 12.01it/s, v_num=7, train_loss=4.460]"
     ]
    },
    {
     "name": "stderr",
     "output_type": "stream",
     "text": [
      "Epoch 14, global step 750: 'train_loss' reached 4.45735 (best 4.45735), saving model to '/home/plealm/Documentos/Unal/Maestria/1_Semestre/Series_Temporales/codigo/acciones/src/Gluon_TS/lightning_logs/version_7/checkpoints/epoch=14-step=750.ckpt' as top 1\n"
     ]
    },
    {
     "name": "stdout",
     "output_type": "stream",
     "text": [
      "Epoch 15: |          | 50/? [00:04<00:00, 11.52it/s, v_num=7, train_loss=4.650]"
     ]
    },
    {
     "name": "stderr",
     "output_type": "stream",
     "text": [
      "Epoch 15, global step 800: 'train_loss' was not in top 1\n"
     ]
    },
    {
     "name": "stdout",
     "output_type": "stream",
     "text": [
      "Epoch 16: |          | 50/? [00:04<00:00, 12.06it/s, v_num=7, train_loss=4.580]"
     ]
    },
    {
     "name": "stderr",
     "output_type": "stream",
     "text": [
      "Epoch 16, global step 850: 'train_loss' was not in top 1\n"
     ]
    },
    {
     "name": "stdout",
     "output_type": "stream",
     "text": [
      "Epoch 17: |          | 50/? [00:04<00:00, 11.97it/s, v_num=7, train_loss=4.500]"
     ]
    },
    {
     "name": "stderr",
     "output_type": "stream",
     "text": [
      "Epoch 17, global step 900: 'train_loss' was not in top 1\n"
     ]
    },
    {
     "name": "stdout",
     "output_type": "stream",
     "text": [
      "Epoch 18: |          | 50/? [00:04<00:00, 11.77it/s, v_num=7, train_loss=4.590]"
     ]
    },
    {
     "name": "stderr",
     "output_type": "stream",
     "text": [
      "Epoch 18, global step 950: 'train_loss' was not in top 1\n"
     ]
    },
    {
     "name": "stdout",
     "output_type": "stream",
     "text": [
      "Epoch 19: |          | 50/? [00:04<00:00, 11.77it/s, v_num=7, train_loss=4.530]"
     ]
    },
    {
     "name": "stderr",
     "output_type": "stream",
     "text": [
      "Epoch 19, global step 1000: 'train_loss' was not in top 1\n",
      "`Trainer.fit` stopped: `max_epochs=20` reached.\n"
     ]
    },
    {
     "name": "stdout",
     "output_type": "stream",
     "text": [
      "Epoch 19: |          | 50/? [00:04<00:00, 11.64it/s, v_num=7, train_loss=4.530]\n"
     ]
    },
    {
     "name": "stderr",
     "output_type": "stream",
     "text": [
      "Running evaluation: 133it [00:00, 1027.89it/s]\n",
      "GPU available: False, used: False\n",
      "TPU available: False, using: 0 TPU cores\n",
      "IPU available: False, using: 0 IPUs\n",
      "HPU available: False, using: 0 HPUs\n",
      "\n",
      "  | Name  | Type        | Params | In sizes                                                      | Out sizes   \n",
      "---------------------------------------------------------------------------------------------------------------------\n",
      "0 | model | DeepARModel | 62.7 K | [[1, 1], [1, 1], [1, 744, 5], [1, 744], [1, 744], [1, 24, 5]] | [1, 100, 24]\n",
      "---------------------------------------------------------------------------------------------------------------------\n",
      "62.7 K    Trainable params\n",
      "0         Non-trainable params\n",
      "62.7 K    Total params\n",
      "0.251     Total estimated model params size (MB)\n"
     ]
    },
    {
     "name": "stdout",
     "output_type": "stream",
     "text": [
      "Epoch 0: |          | 50/? [00:04<00:00, 11.54it/s, v_num=8, train_loss=6.240]"
     ]
    },
    {
     "name": "stderr",
     "output_type": "stream",
     "text": [
      "Epoch 0, global step 50: 'train_loss' reached 6.23814 (best 6.23814), saving model to '/home/plealm/Documentos/Unal/Maestria/1_Semestre/Series_Temporales/codigo/acciones/src/Gluon_TS/lightning_logs/version_8/checkpoints/epoch=0-step=50.ckpt' as top 1\n"
     ]
    },
    {
     "name": "stdout",
     "output_type": "stream",
     "text": [
      "Epoch 1: |          | 50/? [00:04<00:00, 11.71it/s, v_num=8, train_loss=5.580]"
     ]
    },
    {
     "name": "stderr",
     "output_type": "stream",
     "text": [
      "Epoch 1, global step 100: 'train_loss' reached 5.58035 (best 5.58035), saving model to '/home/plealm/Documentos/Unal/Maestria/1_Semestre/Series_Temporales/codigo/acciones/src/Gluon_TS/lightning_logs/version_8/checkpoints/epoch=1-step=100.ckpt' as top 1\n"
     ]
    },
    {
     "name": "stdout",
     "output_type": "stream",
     "text": [
      "Epoch 2: |          | 50/? [00:04<00:00, 11.42it/s, v_num=8, train_loss=5.290]"
     ]
    },
    {
     "name": "stderr",
     "output_type": "stream",
     "text": [
      "Epoch 2, global step 150: 'train_loss' reached 5.28686 (best 5.28686), saving model to '/home/plealm/Documentos/Unal/Maestria/1_Semestre/Series_Temporales/codigo/acciones/src/Gluon_TS/lightning_logs/version_8/checkpoints/epoch=2-step=150.ckpt' as top 1\n"
     ]
    },
    {
     "name": "stdout",
     "output_type": "stream",
     "text": [
      "Epoch 3: |          | 50/? [00:04<00:00, 11.32it/s, v_num=8, train_loss=5.210]"
     ]
    },
    {
     "name": "stderr",
     "output_type": "stream",
     "text": [
      "Epoch 3, global step 200: 'train_loss' reached 5.20697 (best 5.20697), saving model to '/home/plealm/Documentos/Unal/Maestria/1_Semestre/Series_Temporales/codigo/acciones/src/Gluon_TS/lightning_logs/version_8/checkpoints/epoch=3-step=200.ckpt' as top 1\n"
     ]
    },
    {
     "name": "stdout",
     "output_type": "stream",
     "text": [
      "Epoch 4: |          | 50/? [00:04<00:00, 11.54it/s, v_num=8, train_loss=4.890]"
     ]
    },
    {
     "name": "stderr",
     "output_type": "stream",
     "text": [
      "Epoch 4, global step 250: 'train_loss' reached 4.88597 (best 4.88597), saving model to '/home/plealm/Documentos/Unal/Maestria/1_Semestre/Series_Temporales/codigo/acciones/src/Gluon_TS/lightning_logs/version_8/checkpoints/epoch=4-step=250.ckpt' as top 1\n"
     ]
    },
    {
     "name": "stdout",
     "output_type": "stream",
     "text": [
      "Epoch 5: |          | 50/? [00:04<00:00, 11.18it/s, v_num=8, train_loss=5.490]"
     ]
    },
    {
     "name": "stderr",
     "output_type": "stream",
     "text": [
      "Epoch 5, global step 300: 'train_loss' was not in top 1\n"
     ]
    },
    {
     "name": "stdout",
     "output_type": "stream",
     "text": [
      "Epoch 6: |          | 50/? [00:04<00:00, 12.04it/s, v_num=8, train_loss=5.130]"
     ]
    },
    {
     "name": "stderr",
     "output_type": "stream",
     "text": [
      "Epoch 6, global step 350: 'train_loss' was not in top 1\n"
     ]
    },
    {
     "name": "stdout",
     "output_type": "stream",
     "text": [
      "Epoch 7: |          | 50/? [00:04<00:00, 11.58it/s, v_num=8, train_loss=5.070]"
     ]
    },
    {
     "name": "stderr",
     "output_type": "stream",
     "text": [
      "Epoch 7, global step 400: 'train_loss' was not in top 1\n"
     ]
    },
    {
     "name": "stdout",
     "output_type": "stream",
     "text": [
      "Epoch 8: |          | 50/? [00:04<00:00, 11.49it/s, v_num=8, train_loss=4.710]"
     ]
    },
    {
     "name": "stderr",
     "output_type": "stream",
     "text": [
      "Epoch 8, global step 450: 'train_loss' reached 4.70900 (best 4.70900), saving model to '/home/plealm/Documentos/Unal/Maestria/1_Semestre/Series_Temporales/codigo/acciones/src/Gluon_TS/lightning_logs/version_8/checkpoints/epoch=8-step=450.ckpt' as top 1\n"
     ]
    },
    {
     "name": "stdout",
     "output_type": "stream",
     "text": [
      "Epoch 9: |          | 50/? [00:04<00:00, 11.63it/s, v_num=8, train_loss=4.840]"
     ]
    },
    {
     "name": "stderr",
     "output_type": "stream",
     "text": [
      "Epoch 9, global step 500: 'train_loss' was not in top 1\n"
     ]
    },
    {
     "name": "stdout",
     "output_type": "stream",
     "text": [
      "Epoch 10: |          | 50/? [00:04<00:00, 11.60it/s, v_num=8, train_loss=4.660]"
     ]
    },
    {
     "name": "stderr",
     "output_type": "stream",
     "text": [
      "Epoch 10, global step 550: 'train_loss' reached 4.66113 (best 4.66113), saving model to '/home/plealm/Documentos/Unal/Maestria/1_Semestre/Series_Temporales/codigo/acciones/src/Gluon_TS/lightning_logs/version_8/checkpoints/epoch=10-step=550.ckpt' as top 1\n"
     ]
    },
    {
     "name": "stdout",
     "output_type": "stream",
     "text": [
      "Epoch 11: |          | 50/? [00:04<00:00, 11.42it/s, v_num=8, train_loss=4.670]"
     ]
    },
    {
     "name": "stderr",
     "output_type": "stream",
     "text": [
      "Epoch 11, global step 600: 'train_loss' was not in top 1\n"
     ]
    },
    {
     "name": "stdout",
     "output_type": "stream",
     "text": [
      "Epoch 12: |          | 50/? [00:04<00:00, 11.68it/s, v_num=8, train_loss=4.790]"
     ]
    },
    {
     "name": "stderr",
     "output_type": "stream",
     "text": [
      "Epoch 12, global step 650: 'train_loss' was not in top 1\n"
     ]
    },
    {
     "name": "stdout",
     "output_type": "stream",
     "text": [
      "Epoch 13: |          | 50/? [00:04<00:00, 11.78it/s, v_num=8, train_loss=4.500]"
     ]
    },
    {
     "name": "stderr",
     "output_type": "stream",
     "text": [
      "Epoch 13, global step 700: 'train_loss' reached 4.49693 (best 4.49693), saving model to '/home/plealm/Documentos/Unal/Maestria/1_Semestre/Series_Temporales/codigo/acciones/src/Gluon_TS/lightning_logs/version_8/checkpoints/epoch=13-step=700.ckpt' as top 1\n"
     ]
    },
    {
     "name": "stdout",
     "output_type": "stream",
     "text": [
      "Epoch 14: |          | 50/? [00:04<00:00, 11.44it/s, v_num=8, train_loss=4.480]"
     ]
    },
    {
     "name": "stderr",
     "output_type": "stream",
     "text": [
      "Epoch 14, global step 750: 'train_loss' reached 4.48128 (best 4.48128), saving model to '/home/plealm/Documentos/Unal/Maestria/1_Semestre/Series_Temporales/codigo/acciones/src/Gluon_TS/lightning_logs/version_8/checkpoints/epoch=14-step=750.ckpt' as top 1\n"
     ]
    },
    {
     "name": "stdout",
     "output_type": "stream",
     "text": [
      "Epoch 15: |          | 50/? [00:04<00:00, 11.62it/s, v_num=8, train_loss=4.410]"
     ]
    },
    {
     "name": "stderr",
     "output_type": "stream",
     "text": [
      "Epoch 15, global step 800: 'train_loss' reached 4.41420 (best 4.41420), saving model to '/home/plealm/Documentos/Unal/Maestria/1_Semestre/Series_Temporales/codigo/acciones/src/Gluon_TS/lightning_logs/version_8/checkpoints/epoch=15-step=800.ckpt' as top 1\n"
     ]
    },
    {
     "name": "stdout",
     "output_type": "stream",
     "text": [
      "Epoch 16: |          | 50/? [00:04<00:00, 11.73it/s, v_num=8, train_loss=4.290]"
     ]
    },
    {
     "name": "stderr",
     "output_type": "stream",
     "text": [
      "Epoch 16, global step 850: 'train_loss' reached 4.29243 (best 4.29243), saving model to '/home/plealm/Documentos/Unal/Maestria/1_Semestre/Series_Temporales/codigo/acciones/src/Gluon_TS/lightning_logs/version_8/checkpoints/epoch=16-step=850.ckpt' as top 1\n"
     ]
    },
    {
     "name": "stdout",
     "output_type": "stream",
     "text": [
      "Epoch 17: |          | 50/? [00:04<00:00, 11.48it/s, v_num=8, train_loss=4.740]"
     ]
    },
    {
     "name": "stderr",
     "output_type": "stream",
     "text": [
      "Epoch 17, global step 900: 'train_loss' was not in top 1\n"
     ]
    },
    {
     "name": "stdout",
     "output_type": "stream",
     "text": [
      "Epoch 18: |          | 50/? [00:04<00:00, 10.77it/s, v_num=8, train_loss=4.680]"
     ]
    },
    {
     "name": "stderr",
     "output_type": "stream",
     "text": [
      "Epoch 18, global step 950: 'train_loss' was not in top 1\n"
     ]
    },
    {
     "name": "stdout",
     "output_type": "stream",
     "text": [
      "Epoch 19: |          | 50/? [00:04<00:00, 10.17it/s, v_num=8, train_loss=4.240]"
     ]
    },
    {
     "name": "stderr",
     "output_type": "stream",
     "text": [
      "Epoch 19, global step 1000: 'train_loss' reached 4.23898 (best 4.23898), saving model to '/home/plealm/Documentos/Unal/Maestria/1_Semestre/Series_Temporales/codigo/acciones/src/Gluon_TS/lightning_logs/version_8/checkpoints/epoch=19-step=1000.ckpt' as top 1\n",
      "`Trainer.fit` stopped: `max_epochs=20` reached.\n"
     ]
    },
    {
     "name": "stdout",
     "output_type": "stream",
     "text": [
      "Epoch 19: |          | 50/? [00:04<00:00, 10.11it/s, v_num=8, train_loss=4.240]\n"
     ]
    },
    {
     "name": "stderr",
     "output_type": "stream",
     "text": [
      "Running evaluation: 133it [00:00, 896.99it/s]\n",
      "GPU available: False, used: False\n",
      "TPU available: False, using: 0 TPU cores\n",
      "IPU available: False, using: 0 IPUs\n",
      "HPU available: False, using: 0 HPUs\n",
      "\n",
      "  | Name  | Type        | Params | In sizes                                                      | Out sizes   \n",
      "---------------------------------------------------------------------------------------------------------------------\n",
      "0 | model | DeepARModel | 223 K  | [[1, 1], [1, 1], [1, 744, 5], [1, 744], [1, 744], [1, 24, 5]] | [1, 100, 24]\n",
      "---------------------------------------------------------------------------------------------------------------------\n",
      "223 K     Trainable params\n",
      "0         Non-trainable params\n",
      "223 K     Total params\n",
      "0.894     Total estimated model params size (MB)\n"
     ]
    },
    {
     "name": "stdout",
     "output_type": "stream",
     "text": [
      "Epoch 0: |          | 50/? [00:05<00:00,  8.42it/s, v_num=9, train_loss=5.900]"
     ]
    },
    {
     "name": "stderr",
     "output_type": "stream",
     "text": [
      "Epoch 0, global step 50: 'train_loss' reached 5.90449 (best 5.90449), saving model to '/home/plealm/Documentos/Unal/Maestria/1_Semestre/Series_Temporales/codigo/acciones/src/Gluon_TS/lightning_logs/version_9/checkpoints/epoch=0-step=50.ckpt' as top 1\n"
     ]
    },
    {
     "name": "stdout",
     "output_type": "stream",
     "text": [
      "Epoch 1: |          | 50/? [00:06<00:00,  8.31it/s, v_num=9, train_loss=5.460]"
     ]
    },
    {
     "name": "stderr",
     "output_type": "stream",
     "text": [
      "Epoch 1, global step 100: 'train_loss' reached 5.45610 (best 5.45610), saving model to '/home/plealm/Documentos/Unal/Maestria/1_Semestre/Series_Temporales/codigo/acciones/src/Gluon_TS/lightning_logs/version_9/checkpoints/epoch=1-step=100.ckpt' as top 1\n"
     ]
    },
    {
     "name": "stdout",
     "output_type": "stream",
     "text": [
      "Epoch 2: |          | 50/? [00:06<00:00,  8.32it/s, v_num=9, train_loss=5.310]"
     ]
    },
    {
     "name": "stderr",
     "output_type": "stream",
     "text": [
      "Epoch 2, global step 150: 'train_loss' reached 5.31464 (best 5.31464), saving model to '/home/plealm/Documentos/Unal/Maestria/1_Semestre/Series_Temporales/codigo/acciones/src/Gluon_TS/lightning_logs/version_9/checkpoints/epoch=2-step=150.ckpt' as top 1\n"
     ]
    },
    {
     "name": "stdout",
     "output_type": "stream",
     "text": [
      "Epoch 3: |          | 50/? [00:06<00:00,  8.30it/s, v_num=9, train_loss=4.960]"
     ]
    },
    {
     "name": "stderr",
     "output_type": "stream",
     "text": [
      "Epoch 3, global step 200: 'train_loss' reached 4.95746 (best 4.95746), saving model to '/home/plealm/Documentos/Unal/Maestria/1_Semestre/Series_Temporales/codigo/acciones/src/Gluon_TS/lightning_logs/version_9/checkpoints/epoch=3-step=200.ckpt' as top 1\n"
     ]
    },
    {
     "name": "stdout",
     "output_type": "stream",
     "text": [
      "Epoch 4: |          | 50/? [00:06<00:00,  8.18it/s, v_num=9, train_loss=5.250]"
     ]
    },
    {
     "name": "stderr",
     "output_type": "stream",
     "text": [
      "Epoch 4, global step 250: 'train_loss' was not in top 1\n"
     ]
    },
    {
     "name": "stdout",
     "output_type": "stream",
     "text": [
      "Epoch 5: |          | 50/? [00:06<00:00,  7.91it/s, v_num=9, train_loss=5.450]"
     ]
    },
    {
     "name": "stderr",
     "output_type": "stream",
     "text": [
      "Epoch 5, global step 300: 'train_loss' was not in top 1\n"
     ]
    },
    {
     "name": "stdout",
     "output_type": "stream",
     "text": [
      "Epoch 6: |          | 50/? [00:06<00:00,  8.08it/s, v_num=9, train_loss=4.840]"
     ]
    },
    {
     "name": "stderr",
     "output_type": "stream",
     "text": [
      "Epoch 6, global step 350: 'train_loss' reached 4.83729 (best 4.83729), saving model to '/home/plealm/Documentos/Unal/Maestria/1_Semestre/Series_Temporales/codigo/acciones/src/Gluon_TS/lightning_logs/version_9/checkpoints/epoch=6-step=350.ckpt' as top 1\n"
     ]
    },
    {
     "name": "stdout",
     "output_type": "stream",
     "text": [
      "Epoch 7: |          | 50/? [00:06<00:00,  8.09it/s, v_num=9, train_loss=4.740]"
     ]
    },
    {
     "name": "stderr",
     "output_type": "stream",
     "text": [
      "Epoch 7, global step 400: 'train_loss' reached 4.73902 (best 4.73902), saving model to '/home/plealm/Documentos/Unal/Maestria/1_Semestre/Series_Temporales/codigo/acciones/src/Gluon_TS/lightning_logs/version_9/checkpoints/epoch=7-step=400.ckpt' as top 1\n"
     ]
    },
    {
     "name": "stdout",
     "output_type": "stream",
     "text": [
      "Epoch 8: |          | 50/? [00:06<00:00,  8.05it/s, v_num=9, train_loss=4.720]"
     ]
    },
    {
     "name": "stderr",
     "output_type": "stream",
     "text": [
      "Epoch 8, global step 450: 'train_loss' reached 4.71566 (best 4.71566), saving model to '/home/plealm/Documentos/Unal/Maestria/1_Semestre/Series_Temporales/codigo/acciones/src/Gluon_TS/lightning_logs/version_9/checkpoints/epoch=8-step=450.ckpt' as top 1\n"
     ]
    },
    {
     "name": "stdout",
     "output_type": "stream",
     "text": [
      "Epoch 9: |          | 50/? [00:06<00:00,  8.18it/s, v_num=9, train_loss=4.610]"
     ]
    },
    {
     "name": "stderr",
     "output_type": "stream",
     "text": [
      "Epoch 9, global step 500: 'train_loss' reached 4.60727 (best 4.60727), saving model to '/home/plealm/Documentos/Unal/Maestria/1_Semestre/Series_Temporales/codigo/acciones/src/Gluon_TS/lightning_logs/version_9/checkpoints/epoch=9-step=500.ckpt' as top 1\n"
     ]
    },
    {
     "name": "stdout",
     "output_type": "stream",
     "text": [
      "Epoch 10: |          | 50/? [00:06<00:00,  7.98it/s, v_num=9, train_loss=4.660]"
     ]
    },
    {
     "name": "stderr",
     "output_type": "stream",
     "text": [
      "Epoch 10, global step 550: 'train_loss' was not in top 1\n"
     ]
    },
    {
     "name": "stdout",
     "output_type": "stream",
     "text": [
      "Epoch 11: |          | 50/? [00:06<00:00,  8.10it/s, v_num=9, train_loss=4.520]"
     ]
    },
    {
     "name": "stderr",
     "output_type": "stream",
     "text": [
      "Epoch 11, global step 600: 'train_loss' reached 4.52094 (best 4.52094), saving model to '/home/plealm/Documentos/Unal/Maestria/1_Semestre/Series_Temporales/codigo/acciones/src/Gluon_TS/lightning_logs/version_9/checkpoints/epoch=11-step=600.ckpt' as top 1\n"
     ]
    },
    {
     "name": "stdout",
     "output_type": "stream",
     "text": [
      "Epoch 12: |          | 50/? [00:05<00:00,  8.35it/s, v_num=9, train_loss=4.530]"
     ]
    },
    {
     "name": "stderr",
     "output_type": "stream",
     "text": [
      "Epoch 12, global step 650: 'train_loss' was not in top 1\n"
     ]
    },
    {
     "name": "stdout",
     "output_type": "stream",
     "text": [
      "Epoch 13: |          | 50/? [00:06<00:00,  7.81it/s, v_num=9, train_loss=4.570]"
     ]
    },
    {
     "name": "stderr",
     "output_type": "stream",
     "text": [
      "Epoch 13, global step 700: 'train_loss' was not in top 1\n"
     ]
    },
    {
     "name": "stdout",
     "output_type": "stream",
     "text": [
      "Epoch 14: |          | 50/? [00:06<00:00,  8.25it/s, v_num=9, train_loss=4.630]"
     ]
    },
    {
     "name": "stderr",
     "output_type": "stream",
     "text": [
      "Epoch 14, global step 750: 'train_loss' was not in top 1\n"
     ]
    },
    {
     "name": "stdout",
     "output_type": "stream",
     "text": [
      "Epoch 15: |          | 50/? [00:06<00:00,  8.29it/s, v_num=9, train_loss=4.550]"
     ]
    },
    {
     "name": "stderr",
     "output_type": "stream",
     "text": [
      "Epoch 15, global step 800: 'train_loss' was not in top 1\n"
     ]
    },
    {
     "name": "stdout",
     "output_type": "stream",
     "text": [
      "Epoch 16: |          | 50/? [00:06<00:00,  8.20it/s, v_num=9, train_loss=4.780]"
     ]
    },
    {
     "name": "stderr",
     "output_type": "stream",
     "text": [
      "Epoch 16, global step 850: 'train_loss' was not in top 1\n"
     ]
    },
    {
     "name": "stdout",
     "output_type": "stream",
     "text": [
      "Epoch 17: |          | 50/? [00:06<00:00,  8.25it/s, v_num=9, train_loss=4.300]"
     ]
    },
    {
     "name": "stderr",
     "output_type": "stream",
     "text": [
      "Epoch 17, global step 900: 'train_loss' reached 4.29545 (best 4.29545), saving model to '/home/plealm/Documentos/Unal/Maestria/1_Semestre/Series_Temporales/codigo/acciones/src/Gluon_TS/lightning_logs/version_9/checkpoints/epoch=17-step=900.ckpt' as top 1\n"
     ]
    },
    {
     "name": "stdout",
     "output_type": "stream",
     "text": [
      "Epoch 18: |          | 50/? [00:06<00:00,  7.90it/s, v_num=9, train_loss=4.160]"
     ]
    },
    {
     "name": "stderr",
     "output_type": "stream",
     "text": [
      "Epoch 18, global step 950: 'train_loss' reached 4.16175 (best 4.16175), saving model to '/home/plealm/Documentos/Unal/Maestria/1_Semestre/Series_Temporales/codigo/acciones/src/Gluon_TS/lightning_logs/version_9/checkpoints/epoch=18-step=950.ckpt' as top 1\n"
     ]
    },
    {
     "name": "stdout",
     "output_type": "stream",
     "text": [
      "Epoch 19: |          | 50/? [00:06<00:00,  8.23it/s, v_num=9, train_loss=4.260]"
     ]
    },
    {
     "name": "stderr",
     "output_type": "stream",
     "text": [
      "Epoch 19, global step 1000: 'train_loss' was not in top 1\n",
      "`Trainer.fit` stopped: `max_epochs=20` reached.\n"
     ]
    },
    {
     "name": "stdout",
     "output_type": "stream",
     "text": [
      "Epoch 19: |          | 50/? [00:06<00:00,  8.16it/s, v_num=9, train_loss=4.260]\n"
     ]
    },
    {
     "name": "stderr",
     "output_type": "stream",
     "text": [
      "Running evaluation: 133it [00:00, 996.08it/s]\n",
      "GPU available: False, used: False\n",
      "TPU available: False, using: 0 TPU cores\n",
      "IPU available: False, using: 0 IPUs\n",
      "HPU available: False, using: 0 HPUs\n",
      "\n",
      "  | Name  | Type        | Params | In sizes                                                      | Out sizes   \n",
      "---------------------------------------------------------------------------------------------------------------------\n",
      "0 | model | DeepARModel | 27.5 K | [[1, 1], [1, 1], [1, 744, 5], [1, 744], [1, 744], [1, 24, 5]] | [1, 100, 24]\n",
      "---------------------------------------------------------------------------------------------------------------------\n",
      "27.5 K    Trainable params\n",
      "0         Non-trainable params\n",
      "27.5 K    Total params\n",
      "0.110     Total estimated model params size (MB)\n"
     ]
    },
    {
     "name": "stdout",
     "output_type": "stream",
     "text": [
      "Epoch 0: |          | 50/? [00:04<00:00, 12.01it/s, v_num=10, train_loss=6.360]"
     ]
    },
    {
     "name": "stderr",
     "output_type": "stream",
     "text": [
      "Epoch 0, global step 50: 'train_loss' reached 6.36386 (best 6.36386), saving model to '/home/plealm/Documentos/Unal/Maestria/1_Semestre/Series_Temporales/codigo/acciones/src/Gluon_TS/lightning_logs/version_10/checkpoints/epoch=0-step=50.ckpt' as top 1\n"
     ]
    },
    {
     "name": "stdout",
     "output_type": "stream",
     "text": [
      "Epoch 1: |          | 50/? [00:04<00:00, 11.83it/s, v_num=10, train_loss=6.000]"
     ]
    },
    {
     "name": "stderr",
     "output_type": "stream",
     "text": [
      "Epoch 1, global step 100: 'train_loss' reached 6.00355 (best 6.00355), saving model to '/home/plealm/Documentos/Unal/Maestria/1_Semestre/Series_Temporales/codigo/acciones/src/Gluon_TS/lightning_logs/version_10/checkpoints/epoch=1-step=100.ckpt' as top 1\n"
     ]
    },
    {
     "name": "stdout",
     "output_type": "stream",
     "text": [
      "Epoch 2: |          | 50/? [00:04<00:00, 11.54it/s, v_num=10, train_loss=5.730]"
     ]
    },
    {
     "name": "stderr",
     "output_type": "stream",
     "text": [
      "Epoch 2, global step 150: 'train_loss' reached 5.73232 (best 5.73232), saving model to '/home/plealm/Documentos/Unal/Maestria/1_Semestre/Series_Temporales/codigo/acciones/src/Gluon_TS/lightning_logs/version_10/checkpoints/epoch=2-step=150.ckpt' as top 1\n"
     ]
    },
    {
     "name": "stdout",
     "output_type": "stream",
     "text": [
      "Epoch 3: |          | 50/? [00:04<00:00, 11.67it/s, v_num=10, train_loss=5.400]"
     ]
    },
    {
     "name": "stderr",
     "output_type": "stream",
     "text": [
      "Epoch 3, global step 200: 'train_loss' reached 5.39621 (best 5.39621), saving model to '/home/plealm/Documentos/Unal/Maestria/1_Semestre/Series_Temporales/codigo/acciones/src/Gluon_TS/lightning_logs/version_10/checkpoints/epoch=3-step=200.ckpt' as top 1\n"
     ]
    },
    {
     "name": "stdout",
     "output_type": "stream",
     "text": [
      "Epoch 4: |          | 50/? [00:04<00:00, 11.89it/s, v_num=10, train_loss=5.390]"
     ]
    },
    {
     "name": "stderr",
     "output_type": "stream",
     "text": [
      "Epoch 4, global step 250: 'train_loss' reached 5.39472 (best 5.39472), saving model to '/home/plealm/Documentos/Unal/Maestria/1_Semestre/Series_Temporales/codigo/acciones/src/Gluon_TS/lightning_logs/version_10/checkpoints/epoch=4-step=250.ckpt' as top 1\n"
     ]
    },
    {
     "name": "stdout",
     "output_type": "stream",
     "text": [
      "Epoch 5: |          | 50/? [00:04<00:00, 11.72it/s, v_num=10, train_loss=5.190]"
     ]
    },
    {
     "name": "stderr",
     "output_type": "stream",
     "text": [
      "Epoch 5, global step 300: 'train_loss' reached 5.18748 (best 5.18748), saving model to '/home/plealm/Documentos/Unal/Maestria/1_Semestre/Series_Temporales/codigo/acciones/src/Gluon_TS/lightning_logs/version_10/checkpoints/epoch=5-step=300.ckpt' as top 1\n"
     ]
    },
    {
     "name": "stdout",
     "output_type": "stream",
     "text": [
      "Epoch 6: |          | 50/? [00:04<00:00, 11.78it/s, v_num=10, train_loss=5.060]"
     ]
    },
    {
     "name": "stderr",
     "output_type": "stream",
     "text": [
      "Epoch 6, global step 350: 'train_loss' reached 5.06079 (best 5.06079), saving model to '/home/plealm/Documentos/Unal/Maestria/1_Semestre/Series_Temporales/codigo/acciones/src/Gluon_TS/lightning_logs/version_10/checkpoints/epoch=6-step=350.ckpt' as top 1\n"
     ]
    },
    {
     "name": "stdout",
     "output_type": "stream",
     "text": [
      "Epoch 7: |          | 50/? [00:04<00:00, 12.05it/s, v_num=10, train_loss=5.170]"
     ]
    },
    {
     "name": "stderr",
     "output_type": "stream",
     "text": [
      "Epoch 7, global step 400: 'train_loss' was not in top 1\n"
     ]
    },
    {
     "name": "stdout",
     "output_type": "stream",
     "text": [
      "Epoch 8: |          | 50/? [00:04<00:00, 11.52it/s, v_num=10, train_loss=5.130]"
     ]
    },
    {
     "name": "stderr",
     "output_type": "stream",
     "text": [
      "Epoch 8, global step 450: 'train_loss' was not in top 1\n"
     ]
    },
    {
     "name": "stdout",
     "output_type": "stream",
     "text": [
      "Epoch 9: |          | 50/? [00:04<00:00, 11.86it/s, v_num=10, train_loss=4.780]"
     ]
    },
    {
     "name": "stderr",
     "output_type": "stream",
     "text": [
      "Epoch 9, global step 500: 'train_loss' reached 4.77906 (best 4.77906), saving model to '/home/plealm/Documentos/Unal/Maestria/1_Semestre/Series_Temporales/codigo/acciones/src/Gluon_TS/lightning_logs/version_10/checkpoints/epoch=9-step=500.ckpt' as top 1\n"
     ]
    },
    {
     "name": "stdout",
     "output_type": "stream",
     "text": [
      "Epoch 10: |          | 50/? [00:04<00:00, 11.80it/s, v_num=10, train_loss=4.880]"
     ]
    },
    {
     "name": "stderr",
     "output_type": "stream",
     "text": [
      "Epoch 10, global step 550: 'train_loss' was not in top 1\n"
     ]
    },
    {
     "name": "stdout",
     "output_type": "stream",
     "text": [
      "Epoch 11: |          | 50/? [00:04<00:00, 11.51it/s, v_num=10, train_loss=4.540]"
     ]
    },
    {
     "name": "stderr",
     "output_type": "stream",
     "text": [
      "Epoch 11, global step 600: 'train_loss' reached 4.54211 (best 4.54211), saving model to '/home/plealm/Documentos/Unal/Maestria/1_Semestre/Series_Temporales/codigo/acciones/src/Gluon_TS/lightning_logs/version_10/checkpoints/epoch=11-step=600.ckpt' as top 1\n"
     ]
    },
    {
     "name": "stdout",
     "output_type": "stream",
     "text": [
      "Epoch 12: |          | 50/? [00:04<00:00, 11.23it/s, v_num=10, train_loss=4.580]"
     ]
    },
    {
     "name": "stderr",
     "output_type": "stream",
     "text": [
      "Epoch 12, global step 650: 'train_loss' was not in top 1\n"
     ]
    },
    {
     "name": "stdout",
     "output_type": "stream",
     "text": [
      "Epoch 13: |          | 50/? [00:04<00:00, 11.79it/s, v_num=10, train_loss=4.570]"
     ]
    },
    {
     "name": "stderr",
     "output_type": "stream",
     "text": [
      "Epoch 13, global step 700: 'train_loss' was not in top 1\n"
     ]
    },
    {
     "name": "stdout",
     "output_type": "stream",
     "text": [
      "Epoch 14: |          | 50/? [00:04<00:00, 11.73it/s, v_num=10, train_loss=4.550]"
     ]
    },
    {
     "name": "stderr",
     "output_type": "stream",
     "text": [
      "Epoch 14, global step 750: 'train_loss' was not in top 1\n"
     ]
    },
    {
     "name": "stdout",
     "output_type": "stream",
     "text": [
      "Epoch 15: |          | 50/? [00:04<00:00, 11.81it/s, v_num=10, train_loss=4.600]"
     ]
    },
    {
     "name": "stderr",
     "output_type": "stream",
     "text": [
      "Epoch 15, global step 800: 'train_loss' was not in top 1\n"
     ]
    },
    {
     "name": "stdout",
     "output_type": "stream",
     "text": [
      "Epoch 16: |          | 50/? [00:04<00:00, 11.83it/s, v_num=10, train_loss=4.660]"
     ]
    },
    {
     "name": "stderr",
     "output_type": "stream",
     "text": [
      "Epoch 16, global step 850: 'train_loss' was not in top 1\n"
     ]
    },
    {
     "name": "stdout",
     "output_type": "stream",
     "text": [
      "Epoch 17: |          | 50/? [00:04<00:00, 11.69it/s, v_num=10, train_loss=4.540]"
     ]
    },
    {
     "name": "stderr",
     "output_type": "stream",
     "text": [
      "Epoch 17, global step 900: 'train_loss' was not in top 1\n"
     ]
    },
    {
     "name": "stdout",
     "output_type": "stream",
     "text": [
      "Epoch 18: |          | 50/? [00:04<00:00, 11.48it/s, v_num=10, train_loss=4.530]"
     ]
    },
    {
     "name": "stderr",
     "output_type": "stream",
     "text": [
      "Epoch 18, global step 950: 'train_loss' reached 4.53298 (best 4.53298), saving model to '/home/plealm/Documentos/Unal/Maestria/1_Semestre/Series_Temporales/codigo/acciones/src/Gluon_TS/lightning_logs/version_10/checkpoints/epoch=18-step=950.ckpt' as top 1\n"
     ]
    },
    {
     "name": "stdout",
     "output_type": "stream",
     "text": [
      "Epoch 19: |          | 50/? [00:04<00:00, 11.94it/s, v_num=10, train_loss=4.460]"
     ]
    },
    {
     "name": "stderr",
     "output_type": "stream",
     "text": [
      "Epoch 19, global step 1000: 'train_loss' reached 4.45702 (best 4.45702), saving model to '/home/plealm/Documentos/Unal/Maestria/1_Semestre/Series_Temporales/codigo/acciones/src/Gluon_TS/lightning_logs/version_10/checkpoints/epoch=19-step=1000.ckpt' as top 1\n",
      "`Trainer.fit` stopped: `max_epochs=20` reached.\n"
     ]
    },
    {
     "name": "stdout",
     "output_type": "stream",
     "text": [
      "Epoch 19: |          | 50/? [00:04<00:00, 11.85it/s, v_num=10, train_loss=4.460]\n"
     ]
    },
    {
     "name": "stderr",
     "output_type": "stream",
     "text": [
      "Running evaluation: 133it [00:00, 1005.94it/s]\n",
      "GPU available: False, used: False\n",
      "TPU available: False, using: 0 TPU cores\n",
      "IPU available: False, using: 0 IPUs\n",
      "HPU available: False, using: 0 HPUs\n",
      "\n",
      "  | Name  | Type        | Params | In sizes                                                      | Out sizes   \n",
      "---------------------------------------------------------------------------------------------------------------------\n",
      "0 | model | DeepARModel | 95.9 K | [[1, 1], [1, 1], [1, 744, 5], [1, 744], [1, 744], [1, 24, 5]] | [1, 100, 24]\n",
      "---------------------------------------------------------------------------------------------------------------------\n",
      "95.9 K    Trainable params\n",
      "0         Non-trainable params\n",
      "95.9 K    Total params\n",
      "0.384     Total estimated model params size (MB)\n"
     ]
    },
    {
     "name": "stdout",
     "output_type": "stream",
     "text": [
      "Epoch 0: |          | 50/? [00:04<00:00, 10.68it/s, v_num=11, train_loss=6.110]"
     ]
    },
    {
     "name": "stderr",
     "output_type": "stream",
     "text": [
      "Epoch 0, global step 50: 'train_loss' reached 6.10671 (best 6.10671), saving model to '/home/plealm/Documentos/Unal/Maestria/1_Semestre/Series_Temporales/codigo/acciones/src/Gluon_TS/lightning_logs/version_11/checkpoints/epoch=0-step=50.ckpt' as top 1\n"
     ]
    },
    {
     "name": "stdout",
     "output_type": "stream",
     "text": [
      "Epoch 1: |          | 50/? [00:04<00:00, 10.65it/s, v_num=11, train_loss=5.840]"
     ]
    },
    {
     "name": "stderr",
     "output_type": "stream",
     "text": [
      "Epoch 1, global step 100: 'train_loss' reached 5.84458 (best 5.84458), saving model to '/home/plealm/Documentos/Unal/Maestria/1_Semestre/Series_Temporales/codigo/acciones/src/Gluon_TS/lightning_logs/version_11/checkpoints/epoch=1-step=100.ckpt' as top 1\n"
     ]
    },
    {
     "name": "stdout",
     "output_type": "stream",
     "text": [
      "Epoch 2: |          | 50/? [00:04<00:00, 10.54it/s, v_num=11, train_loss=5.500]"
     ]
    },
    {
     "name": "stderr",
     "output_type": "stream",
     "text": [
      "Epoch 2, global step 150: 'train_loss' reached 5.50257 (best 5.50257), saving model to '/home/plealm/Documentos/Unal/Maestria/1_Semestre/Series_Temporales/codigo/acciones/src/Gluon_TS/lightning_logs/version_11/checkpoints/epoch=2-step=150.ckpt' as top 1\n"
     ]
    },
    {
     "name": "stdout",
     "output_type": "stream",
     "text": [
      "Epoch 3: |          | 50/? [00:04<00:00, 10.09it/s, v_num=11, train_loss=5.140]"
     ]
    },
    {
     "name": "stderr",
     "output_type": "stream",
     "text": [
      "Epoch 3, global step 200: 'train_loss' reached 5.14426 (best 5.14426), saving model to '/home/plealm/Documentos/Unal/Maestria/1_Semestre/Series_Temporales/codigo/acciones/src/Gluon_TS/lightning_logs/version_11/checkpoints/epoch=3-step=200.ckpt' as top 1\n"
     ]
    },
    {
     "name": "stdout",
     "output_type": "stream",
     "text": [
      "Epoch 4: |          | 50/? [00:04<00:00, 10.70it/s, v_num=11, train_loss=4.940]"
     ]
    },
    {
     "name": "stderr",
     "output_type": "stream",
     "text": [
      "Epoch 4, global step 250: 'train_loss' reached 4.94229 (best 4.94229), saving model to '/home/plealm/Documentos/Unal/Maestria/1_Semestre/Series_Temporales/codigo/acciones/src/Gluon_TS/lightning_logs/version_11/checkpoints/epoch=4-step=250.ckpt' as top 1\n"
     ]
    },
    {
     "name": "stdout",
     "output_type": "stream",
     "text": [
      "Epoch 5: |          | 50/? [00:04<00:00, 10.46it/s, v_num=11, train_loss=4.980]"
     ]
    },
    {
     "name": "stderr",
     "output_type": "stream",
     "text": [
      "Epoch 5, global step 300: 'train_loss' was not in top 1\n"
     ]
    },
    {
     "name": "stdout",
     "output_type": "stream",
     "text": [
      "Epoch 6: |          | 50/? [00:04<00:00, 10.29it/s, v_num=11, train_loss=4.900]"
     ]
    },
    {
     "name": "stderr",
     "output_type": "stream",
     "text": [
      "Epoch 6, global step 350: 'train_loss' reached 4.90029 (best 4.90029), saving model to '/home/plealm/Documentos/Unal/Maestria/1_Semestre/Series_Temporales/codigo/acciones/src/Gluon_TS/lightning_logs/version_11/checkpoints/epoch=6-step=350.ckpt' as top 1\n"
     ]
    },
    {
     "name": "stdout",
     "output_type": "stream",
     "text": [
      "Epoch 7: |          | 50/? [00:04<00:00, 10.51it/s, v_num=11, train_loss=4.770]"
     ]
    },
    {
     "name": "stderr",
     "output_type": "stream",
     "text": [
      "Epoch 7, global step 400: 'train_loss' reached 4.77169 (best 4.77169), saving model to '/home/plealm/Documentos/Unal/Maestria/1_Semestre/Series_Temporales/codigo/acciones/src/Gluon_TS/lightning_logs/version_11/checkpoints/epoch=7-step=400.ckpt' as top 1\n"
     ]
    },
    {
     "name": "stdout",
     "output_type": "stream",
     "text": [
      "Epoch 8: |          | 50/? [00:05<00:00,  9.20it/s, v_num=11, train_loss=4.680]"
     ]
    },
    {
     "name": "stderr",
     "output_type": "stream",
     "text": [
      "Epoch 8, global step 450: 'train_loss' reached 4.68126 (best 4.68126), saving model to '/home/plealm/Documentos/Unal/Maestria/1_Semestre/Series_Temporales/codigo/acciones/src/Gluon_TS/lightning_logs/version_11/checkpoints/epoch=8-step=450.ckpt' as top 1\n"
     ]
    },
    {
     "name": "stdout",
     "output_type": "stream",
     "text": [
      "Epoch 9: |          | 50/? [00:05<00:00,  9.12it/s, v_num=11, train_loss=4.740]"
     ]
    },
    {
     "name": "stderr",
     "output_type": "stream",
     "text": [
      "Epoch 9, global step 500: 'train_loss' was not in top 1\n"
     ]
    },
    {
     "name": "stdout",
     "output_type": "stream",
     "text": [
      "Epoch 10: |          | 50/? [00:05<00:00,  9.52it/s, v_num=11, train_loss=4.520]"
     ]
    },
    {
     "name": "stderr",
     "output_type": "stream",
     "text": [
      "Epoch 10, global step 550: 'train_loss' reached 4.52249 (best 4.52249), saving model to '/home/plealm/Documentos/Unal/Maestria/1_Semestre/Series_Temporales/codigo/acciones/src/Gluon_TS/lightning_logs/version_11/checkpoints/epoch=10-step=550.ckpt' as top 1\n"
     ]
    },
    {
     "name": "stdout",
     "output_type": "stream",
     "text": [
      "Epoch 11: |          | 50/? [00:04<00:00, 10.07it/s, v_num=11, train_loss=4.530]"
     ]
    },
    {
     "name": "stderr",
     "output_type": "stream",
     "text": [
      "Epoch 11, global step 600: 'train_loss' was not in top 1\n"
     ]
    },
    {
     "name": "stdout",
     "output_type": "stream",
     "text": [
      "Epoch 12: |          | 50/? [00:04<00:00, 10.02it/s, v_num=11, train_loss=4.780]"
     ]
    },
    {
     "name": "stderr",
     "output_type": "stream",
     "text": [
      "Epoch 12, global step 650: 'train_loss' was not in top 1\n"
     ]
    },
    {
     "name": "stdout",
     "output_type": "stream",
     "text": [
      "Epoch 13: |          | 50/? [00:04<00:00, 10.24it/s, v_num=11, train_loss=4.610]"
     ]
    },
    {
     "name": "stderr",
     "output_type": "stream",
     "text": [
      "Epoch 13, global step 700: 'train_loss' was not in top 1\n"
     ]
    },
    {
     "name": "stdout",
     "output_type": "stream",
     "text": [
      "Epoch 14: |          | 50/? [00:05<00:00,  9.59it/s, v_num=11, train_loss=4.710]"
     ]
    },
    {
     "name": "stderr",
     "output_type": "stream",
     "text": [
      "Epoch 14, global step 750: 'train_loss' was not in top 1\n"
     ]
    },
    {
     "name": "stdout",
     "output_type": "stream",
     "text": [
      "Epoch 15: |          | 50/? [00:05<00:00,  9.75it/s, v_num=11, train_loss=4.390]"
     ]
    },
    {
     "name": "stderr",
     "output_type": "stream",
     "text": [
      "Epoch 15, global step 800: 'train_loss' reached 4.38718 (best 4.38718), saving model to '/home/plealm/Documentos/Unal/Maestria/1_Semestre/Series_Temporales/codigo/acciones/src/Gluon_TS/lightning_logs/version_11/checkpoints/epoch=15-step=800.ckpt' as top 1\n"
     ]
    },
    {
     "name": "stdout",
     "output_type": "stream",
     "text": [
      "Epoch 16: |          | 50/? [00:05<00:00,  8.43it/s, v_num=11, train_loss=4.580]"
     ]
    },
    {
     "name": "stderr",
     "output_type": "stream",
     "text": [
      "Epoch 16, global step 850: 'train_loss' was not in top 1\n"
     ]
    },
    {
     "name": "stdout",
     "output_type": "stream",
     "text": [
      "Epoch 17: |          | 50/? [00:05<00:00,  9.68it/s, v_num=11, train_loss=4.500]"
     ]
    },
    {
     "name": "stderr",
     "output_type": "stream",
     "text": [
      "Epoch 17, global step 900: 'train_loss' was not in top 1\n"
     ]
    },
    {
     "name": "stdout",
     "output_type": "stream",
     "text": [
      "Epoch 18: |          | 50/? [00:05<00:00,  9.74it/s, v_num=11, train_loss=4.470]"
     ]
    },
    {
     "name": "stderr",
     "output_type": "stream",
     "text": [
      "Epoch 18, global step 950: 'train_loss' was not in top 1\n"
     ]
    },
    {
     "name": "stdout",
     "output_type": "stream",
     "text": [
      "Epoch 19: |          | 50/? [00:05<00:00,  9.47it/s, v_num=11, train_loss=4.430]"
     ]
    },
    {
     "name": "stderr",
     "output_type": "stream",
     "text": [
      "Epoch 19, global step 1000: 'train_loss' was not in top 1\n",
      "`Trainer.fit` stopped: `max_epochs=20` reached.\n"
     ]
    },
    {
     "name": "stdout",
     "output_type": "stream",
     "text": [
      "Epoch 19: |          | 50/? [00:05<00:00,  9.44it/s, v_num=11, train_loss=4.430]\n"
     ]
    },
    {
     "name": "stderr",
     "output_type": "stream",
     "text": [
      "Running evaluation: 133it [00:00, 787.41it/s]\n",
      "GPU available: False, used: False\n",
      "TPU available: False, using: 0 TPU cores\n",
      "IPU available: False, using: 0 IPUs\n",
      "HPU available: False, using: 0 HPUs\n",
      "\n",
      "  | Name  | Type        | Params | In sizes                                                      | Out sizes   \n",
      "---------------------------------------------------------------------------------------------------------------------\n",
      "0 | model | DeepARModel | 355 K  | [[1, 1], [1, 1], [1, 744, 5], [1, 744], [1, 744], [1, 24, 5]] | [1, 100, 24]\n",
      "---------------------------------------------------------------------------------------------------------------------\n",
      "355 K     Trainable params\n",
      "0         Non-trainable params\n",
      "355 K     Total params\n",
      "1.423     Total estimated model params size (MB)\n"
     ]
    },
    {
     "name": "stdout",
     "output_type": "stream",
     "text": [
      "Epoch 0: |          | 50/? [00:07<00:00,  6.98it/s, v_num=12, train_loss=5.990]"
     ]
    },
    {
     "name": "stderr",
     "output_type": "stream",
     "text": [
      "Epoch 0, global step 50: 'train_loss' reached 5.98590 (best 5.98590), saving model to '/home/plealm/Documentos/Unal/Maestria/1_Semestre/Series_Temporales/codigo/acciones/src/Gluon_TS/lightning_logs/version_12/checkpoints/epoch=0-step=50.ckpt' as top 1\n"
     ]
    },
    {
     "name": "stdout",
     "output_type": "stream",
     "text": [
      "Epoch 1: |          | 50/? [00:07<00:00,  6.86it/s, v_num=12, train_loss=5.500]"
     ]
    },
    {
     "name": "stderr",
     "output_type": "stream",
     "text": [
      "Epoch 1, global step 100: 'train_loss' reached 5.50191 (best 5.50191), saving model to '/home/plealm/Documentos/Unal/Maestria/1_Semestre/Series_Temporales/codigo/acciones/src/Gluon_TS/lightning_logs/version_12/checkpoints/epoch=1-step=100.ckpt' as top 1\n"
     ]
    },
    {
     "name": "stdout",
     "output_type": "stream",
     "text": [
      "Epoch 2: |          | 50/? [00:07<00:00,  6.79it/s, v_num=12, train_loss=5.420]"
     ]
    },
    {
     "name": "stderr",
     "output_type": "stream",
     "text": [
      "Epoch 2, global step 150: 'train_loss' reached 5.41827 (best 5.41827), saving model to '/home/plealm/Documentos/Unal/Maestria/1_Semestre/Series_Temporales/codigo/acciones/src/Gluon_TS/lightning_logs/version_12/checkpoints/epoch=2-step=150.ckpt' as top 1\n"
     ]
    },
    {
     "name": "stdout",
     "output_type": "stream",
     "text": [
      "Epoch 3: |          | 50/? [00:07<00:00,  6.76it/s, v_num=12, train_loss=5.370]"
     ]
    },
    {
     "name": "stderr",
     "output_type": "stream",
     "text": [
      "Epoch 3, global step 200: 'train_loss' reached 5.36691 (best 5.36691), saving model to '/home/plealm/Documentos/Unal/Maestria/1_Semestre/Series_Temporales/codigo/acciones/src/Gluon_TS/lightning_logs/version_12/checkpoints/epoch=3-step=200.ckpt' as top 1\n"
     ]
    },
    {
     "name": "stdout",
     "output_type": "stream",
     "text": [
      "Epoch 4: |          | 50/? [00:07<00:00,  6.82it/s, v_num=12, train_loss=5.000]"
     ]
    },
    {
     "name": "stderr",
     "output_type": "stream",
     "text": [
      "Epoch 4, global step 250: 'train_loss' reached 4.99958 (best 4.99958), saving model to '/home/plealm/Documentos/Unal/Maestria/1_Semestre/Series_Temporales/codigo/acciones/src/Gluon_TS/lightning_logs/version_12/checkpoints/epoch=4-step=250.ckpt' as top 1\n"
     ]
    },
    {
     "name": "stdout",
     "output_type": "stream",
     "text": [
      "Epoch 5: |          | 50/? [00:07<00:00,  6.75it/s, v_num=12, train_loss=4.890]"
     ]
    },
    {
     "name": "stderr",
     "output_type": "stream",
     "text": [
      "Epoch 5, global step 300: 'train_loss' reached 4.89176 (best 4.89176), saving model to '/home/plealm/Documentos/Unal/Maestria/1_Semestre/Series_Temporales/codigo/acciones/src/Gluon_TS/lightning_logs/version_12/checkpoints/epoch=5-step=300.ckpt' as top 1\n"
     ]
    },
    {
     "name": "stdout",
     "output_type": "stream",
     "text": [
      "Epoch 6: |          | 50/? [00:07<00:00,  6.74it/s, v_num=12, train_loss=4.960]"
     ]
    },
    {
     "name": "stderr",
     "output_type": "stream",
     "text": [
      "Epoch 6, global step 350: 'train_loss' was not in top 1\n"
     ]
    },
    {
     "name": "stdout",
     "output_type": "stream",
     "text": [
      "Epoch 7: |          | 50/? [00:07<00:00,  6.75it/s, v_num=12, train_loss=4.850]"
     ]
    },
    {
     "name": "stderr",
     "output_type": "stream",
     "text": [
      "Epoch 7, global step 400: 'train_loss' reached 4.85467 (best 4.85467), saving model to '/home/plealm/Documentos/Unal/Maestria/1_Semestre/Series_Temporales/codigo/acciones/src/Gluon_TS/lightning_logs/version_12/checkpoints/epoch=7-step=400.ckpt' as top 1\n"
     ]
    },
    {
     "name": "stdout",
     "output_type": "stream",
     "text": [
      "Epoch 8: |          | 50/? [00:07<00:00,  6.63it/s, v_num=12, train_loss=4.770]"
     ]
    },
    {
     "name": "stderr",
     "output_type": "stream",
     "text": [
      "Epoch 8, global step 450: 'train_loss' reached 4.77165 (best 4.77165), saving model to '/home/plealm/Documentos/Unal/Maestria/1_Semestre/Series_Temporales/codigo/acciones/src/Gluon_TS/lightning_logs/version_12/checkpoints/epoch=8-step=450.ckpt' as top 1\n"
     ]
    },
    {
     "name": "stdout",
     "output_type": "stream",
     "text": [
      "Epoch 9: |          | 50/? [00:07<00:00,  6.82it/s, v_num=12, train_loss=4.530]"
     ]
    },
    {
     "name": "stderr",
     "output_type": "stream",
     "text": [
      "Epoch 9, global step 500: 'train_loss' reached 4.52839 (best 4.52839), saving model to '/home/plealm/Documentos/Unal/Maestria/1_Semestre/Series_Temporales/codigo/acciones/src/Gluon_TS/lightning_logs/version_12/checkpoints/epoch=9-step=500.ckpt' as top 1\n"
     ]
    },
    {
     "name": "stdout",
     "output_type": "stream",
     "text": [
      "Epoch 10: |          | 50/? [00:07<00:00,  6.87it/s, v_num=12, train_loss=4.700]"
     ]
    },
    {
     "name": "stderr",
     "output_type": "stream",
     "text": [
      "Epoch 10, global step 550: 'train_loss' was not in top 1\n"
     ]
    },
    {
     "name": "stdout",
     "output_type": "stream",
     "text": [
      "Epoch 11: |          | 50/? [00:07<00:00,  6.69it/s, v_num=12, train_loss=4.530]"
     ]
    },
    {
     "name": "stderr",
     "output_type": "stream",
     "text": [
      "Epoch 11, global step 600: 'train_loss' was not in top 1\n"
     ]
    },
    {
     "name": "stdout",
     "output_type": "stream",
     "text": [
      "Epoch 12: |          | 50/? [00:07<00:00,  7.03it/s, v_num=12, train_loss=4.450]"
     ]
    },
    {
     "name": "stderr",
     "output_type": "stream",
     "text": [
      "Epoch 12, global step 650: 'train_loss' reached 4.45159 (best 4.45159), saving model to '/home/plealm/Documentos/Unal/Maestria/1_Semestre/Series_Temporales/codigo/acciones/src/Gluon_TS/lightning_logs/version_12/checkpoints/epoch=12-step=650.ckpt' as top 1\n"
     ]
    },
    {
     "name": "stdout",
     "output_type": "stream",
     "text": [
      "Epoch 13: |          | 50/? [00:06<00:00,  7.70it/s, v_num=12, train_loss=4.510]"
     ]
    },
    {
     "name": "stderr",
     "output_type": "stream",
     "text": [
      "Epoch 13, global step 700: 'train_loss' was not in top 1\n"
     ]
    },
    {
     "name": "stdout",
     "output_type": "stream",
     "text": [
      "Epoch 14: |          | 50/? [00:06<00:00,  7.65it/s, v_num=12, train_loss=4.290]"
     ]
    },
    {
     "name": "stderr",
     "output_type": "stream",
     "text": [
      "Epoch 14, global step 750: 'train_loss' reached 4.29465 (best 4.29465), saving model to '/home/plealm/Documentos/Unal/Maestria/1_Semestre/Series_Temporales/codigo/acciones/src/Gluon_TS/lightning_logs/version_12/checkpoints/epoch=14-step=750.ckpt' as top 1\n"
     ]
    },
    {
     "name": "stdout",
     "output_type": "stream",
     "text": [
      "Epoch 15: |          | 50/? [00:06<00:00,  7.96it/s, v_num=12, train_loss=4.530]"
     ]
    },
    {
     "name": "stderr",
     "output_type": "stream",
     "text": [
      "Epoch 15, global step 800: 'train_loss' was not in top 1\n"
     ]
    },
    {
     "name": "stdout",
     "output_type": "stream",
     "text": [
      "Epoch 16: |          | 50/? [00:06<00:00,  7.68it/s, v_num=12, train_loss=4.470]"
     ]
    },
    {
     "name": "stderr",
     "output_type": "stream",
     "text": [
      "Epoch 16, global step 850: 'train_loss' was not in top 1\n"
     ]
    },
    {
     "name": "stdout",
     "output_type": "stream",
     "text": [
      "Epoch 17: |          | 50/? [00:06<00:00,  7.84it/s, v_num=12, train_loss=4.480]"
     ]
    },
    {
     "name": "stderr",
     "output_type": "stream",
     "text": [
      "Epoch 17, global step 900: 'train_loss' was not in top 1\n"
     ]
    },
    {
     "name": "stdout",
     "output_type": "stream",
     "text": [
      "Epoch 18: |          | 50/? [00:06<00:00,  7.71it/s, v_num=12, train_loss=4.410]"
     ]
    },
    {
     "name": "stderr",
     "output_type": "stream",
     "text": [
      "Epoch 18, global step 950: 'train_loss' was not in top 1\n"
     ]
    },
    {
     "name": "stdout",
     "output_type": "stream",
     "text": [
      "Epoch 19: |          | 50/? [00:06<00:00,  7.91it/s, v_num=12, train_loss=4.360]"
     ]
    },
    {
     "name": "stderr",
     "output_type": "stream",
     "text": [
      "Epoch 19, global step 1000: 'train_loss' was not in top 1\n",
      "`Trainer.fit` stopped: `max_epochs=20` reached.\n"
     ]
    },
    {
     "name": "stdout",
     "output_type": "stream",
     "text": [
      "Epoch 19: |          | 50/? [00:06<00:00,  7.88it/s, v_num=12, train_loss=4.360]\n"
     ]
    },
    {
     "name": "stderr",
     "output_type": "stream",
     "text": [
      "Running evaluation: 133it [00:00, 921.95it/s]\n"
     ]
    },
    {
     "name": "stdout",
     "output_type": "stream",
     "text": [
      "Best hyperparameters: {'epochs': 20, 'num_layers': 2, 'hidden_size': 128}\n"
     ]
    },
    {
     "ename": "KeyError",
     "evalue": "'target'",
     "output_type": "error",
     "traceback": [
      "\u001b[0;31m---------------------------------------------------------------------------\u001b[0m",
      "\u001b[0;31mKeyError\u001b[0m                                  Traceback (most recent call last)",
      "Cell \u001b[0;32mIn[1], line 99\u001b[0m\n\u001b[1;32m     96\u001b[0m plt\u001b[38;5;241m.\u001b[39mfigure(figsize\u001b[38;5;241m=\u001b[39m(\u001b[38;5;241m12\u001b[39m, \u001b[38;5;241m6\u001b[39m))\n\u001b[1;32m     98\u001b[0m \u001b[38;5;66;03m# Actual data\u001b[39;00m\n\u001b[0;32m---> 99\u001b[0m test_series \u001b[38;5;241m=\u001b[39m \u001b[43mto_pandas\u001b[49m\u001b[43m(\u001b[49m\u001b[43mts\u001b[49m\u001b[43m)\u001b[49m\n\u001b[1;32m    100\u001b[0m plt\u001b[38;5;241m.\u001b[39mplot(test_series\u001b[38;5;241m.\u001b[39mindex, test_series\u001b[38;5;241m.\u001b[39mvalues, label\u001b[38;5;241m=\u001b[39m\u001b[38;5;124m'\u001b[39m\u001b[38;5;124mActual data\u001b[39m\u001b[38;5;124m'\u001b[39m)\n\u001b[1;32m    102\u001b[0m \u001b[38;5;66;03m# Mean forecast and confidence intervals\u001b[39;00m\n",
      "File \u001b[0;32m~/Documentos/Unal/Maestria/1_Semestre/Series_Temporales/codigo/acciones/.venv/lib/python3.11/site-packages/gluonts/dataset/util.py:54\u001b[0m, in \u001b[0;36mto_pandas\u001b[0;34m(entry, freq)\u001b[0m\n\u001b[1;32m     36\u001b[0m \u001b[38;5;28;01mdef\u001b[39;00m \u001b[38;5;21mto_pandas\u001b[39m(entry: DataEntry, freq: Optional[\u001b[38;5;28mstr\u001b[39m] \u001b[38;5;241m=\u001b[39m \u001b[38;5;28;01mNone\u001b[39;00m) \u001b[38;5;241m-\u001b[39m\u001b[38;5;241m>\u001b[39m pd\u001b[38;5;241m.\u001b[39mSeries:\n\u001b[1;32m     37\u001b[0m \u001b[38;5;250m    \u001b[39m\u001b[38;5;124;03m\"\"\"\u001b[39;00m\n\u001b[1;32m     38\u001b[0m \u001b[38;5;124;03m    Transform a dictionary into a pandas.Series object, using its \"start\" and\u001b[39;00m\n\u001b[1;32m     39\u001b[0m \u001b[38;5;124;03m    \"target\" fields.\u001b[39;00m\n\u001b[0;32m   (...)\u001b[0m\n\u001b[1;32m     51\u001b[0m \u001b[38;5;124;03m        Pandas time series object.\u001b[39;00m\n\u001b[1;32m     52\u001b[0m \u001b[38;5;124;03m    \"\"\"\u001b[39;00m\n\u001b[1;32m     53\u001b[0m     \u001b[38;5;28;01mreturn\u001b[39;00m pd\u001b[38;5;241m.\u001b[39mSeries(\n\u001b[0;32m---> 54\u001b[0m         \u001b[43mentry\u001b[49m\u001b[43m[\u001b[49m\u001b[43mFieldName\u001b[49m\u001b[38;5;241;43m.\u001b[39;49m\u001b[43mTARGET\u001b[49m\u001b[43m]\u001b[49m,\n\u001b[1;32m     55\u001b[0m         index\u001b[38;5;241m=\u001b[39mperiod_index(entry, freq\u001b[38;5;241m=\u001b[39mfreq),\n\u001b[1;32m     56\u001b[0m     )\n",
      "File \u001b[0;32m~/Documentos/Unal/Maestria/1_Semestre/Series_Temporales/codigo/acciones/.venv/lib/python3.11/site-packages/pandas/core/frame.py:4102\u001b[0m, in \u001b[0;36mDataFrame.__getitem__\u001b[0;34m(self, key)\u001b[0m\n\u001b[1;32m   4100\u001b[0m \u001b[38;5;28;01mif\u001b[39;00m \u001b[38;5;28mself\u001b[39m\u001b[38;5;241m.\u001b[39mcolumns\u001b[38;5;241m.\u001b[39mnlevels \u001b[38;5;241m>\u001b[39m \u001b[38;5;241m1\u001b[39m:\n\u001b[1;32m   4101\u001b[0m     \u001b[38;5;28;01mreturn\u001b[39;00m \u001b[38;5;28mself\u001b[39m\u001b[38;5;241m.\u001b[39m_getitem_multilevel(key)\n\u001b[0;32m-> 4102\u001b[0m indexer \u001b[38;5;241m=\u001b[39m \u001b[38;5;28;43mself\u001b[39;49m\u001b[38;5;241;43m.\u001b[39;49m\u001b[43mcolumns\u001b[49m\u001b[38;5;241;43m.\u001b[39;49m\u001b[43mget_loc\u001b[49m\u001b[43m(\u001b[49m\u001b[43mkey\u001b[49m\u001b[43m)\u001b[49m\n\u001b[1;32m   4103\u001b[0m \u001b[38;5;28;01mif\u001b[39;00m is_integer(indexer):\n\u001b[1;32m   4104\u001b[0m     indexer \u001b[38;5;241m=\u001b[39m [indexer]\n",
      "File \u001b[0;32m~/Documentos/Unal/Maestria/1_Semestre/Series_Temporales/codigo/acciones/.venv/lib/python3.11/site-packages/pandas/core/indexes/range.py:417\u001b[0m, in \u001b[0;36mRangeIndex.get_loc\u001b[0;34m(self, key)\u001b[0m\n\u001b[1;32m    415\u001b[0m         \u001b[38;5;28;01mraise\u001b[39;00m \u001b[38;5;167;01mKeyError\u001b[39;00m(key) \u001b[38;5;28;01mfrom\u001b[39;00m \u001b[38;5;21;01merr\u001b[39;00m\n\u001b[1;32m    416\u001b[0m \u001b[38;5;28;01mif\u001b[39;00m \u001b[38;5;28misinstance\u001b[39m(key, Hashable):\n\u001b[0;32m--> 417\u001b[0m     \u001b[38;5;28;01mraise\u001b[39;00m \u001b[38;5;167;01mKeyError\u001b[39;00m(key)\n\u001b[1;32m    418\u001b[0m \u001b[38;5;28mself\u001b[39m\u001b[38;5;241m.\u001b[39m_check_indexing_error(key)\n\u001b[1;32m    419\u001b[0m \u001b[38;5;28;01mraise\u001b[39;00m \u001b[38;5;167;01mKeyError\u001b[39;00m(key)\n",
      "\u001b[0;31mKeyError\u001b[0m: 'target'"
     ]
    },
    {
     "data": {
      "text/plain": [
       "<Figure size 1200x600 with 0 Axes>"
      ]
     },
     "metadata": {},
     "output_type": "display_data"
    }
   ],
   "source": [
    "import numpy as np\n",
    "import pandas as pd\n",
    "import matplotlib.pyplot as plt\n",
    "import torch\n",
    "from gluonts.dataset.common import ListDataset\n",
    "from gluonts.dataset.field_names import FieldName\n",
    "from gluonts.dataset.repository import get_dataset\n",
    "from gluonts.dataset.util import to_pandas\n",
    "from gluonts.torch.model.deepar import DeepAREstimator\n",
    "from gluonts.evaluation.backtest import make_evaluation_predictions\n",
    "import warnings\n",
    "from gluonts.evaluation import Evaluator\n",
    "import scoringrules as sr\n",
    "\n",
    "warnings.filterwarnings(\"ignore\")\n",
    "\n",
    "# Set random seed for reproducibility\n",
    "torch.manual_seed(42)\n",
    "np.random.seed(42)\n",
    "\n",
    "# Load the m4_hourly dataset\n",
    "dataset = get_dataset(\"m4_hourly\")\n",
    "\n",
    "# Convert data to pandas DataFrame\n",
    "train_data = list(dataset.train)\n",
    "test_data = list(dataset.test)\n",
    "\n",
    "# Function to split data into train, validation, and test sets\n",
    "def split_data(data, val_ratio=0.2):\n",
    "    n = len(data)\n",
    "    train_end = int(n * (1 - val_ratio))\n",
    "    return data[:train_end], data[train_end:]\n",
    "\n",
    "# Split the data\n",
    "train_val_data, test_data = split_data(train_data + test_data)\n",
    "train_data, val_data = split_data(train_val_data)\n",
    "\n",
    "# Create GluonTS datasets\n",
    "freq = \"H\"\n",
    "train_ds = ListDataset([{\"start\": entry[\"start\"], \"target\": entry[\"target\"]} for entry in train_data], freq=freq)\n",
    "val_ds = ListDataset([{\"start\": entry[\"start\"], \"target\": entry[\"target\"]} for entry in val_data], freq=freq)\n",
    "test_ds = ListDataset([{\"start\": entry[\"start\"], \"target\": entry[\"target\"]} for entry in test_data], freq=freq)\n",
    "\n",
    "# Function to train and evaluate the model\n",
    "def train_and_evaluate(params):\n",
    "    estimator = DeepAREstimator(\n",
    "        freq=freq,\n",
    "        prediction_length=24,\n",
    "        batch_size=32,\n",
    "        trainer_kwargs={\"max_epochs\": params[\"epochs\"]},\n",
    "        num_layers=params[\"num_layers\"],\n",
    "        hidden_size=params[\"hidden_size\"]\n",
    "    )\n",
    "    predictor = estimator.train(train_ds)\n",
    "    \n",
    "    # Evaluate on the validation set\n",
    "    forecast_it, ts_it = make_evaluation_predictions(val_ds, predictor=predictor, num_samples=100)\n",
    "    forecasts = list(forecast_it)\n",
    "    tss = list(ts_it)\n",
    "    \n",
    "    evaluator = Evaluator(quantiles=[0.1, 0.5, 0.9])\n",
    "    agg_metrics, item_metrics = evaluator(tss, forecasts)\n",
    "    \n",
    "    return agg_metrics[\"mean_wQuantileLoss\"], predictor\n",
    "\n",
    "# Hyperparameter search\n",
    "param_grid = [\n",
    "    {\"epochs\": 20, \"num_layers\": 2, \"hidden_size\": 32},\n",
    "    {\"epochs\": 20, \"num_layers\": 2, \"hidden_size\": 64},\n",
    "    {\"epochs\": 20, \"num_layers\": 2, \"hidden_size\": 128},\n",
    "    {\"epochs\": 20, \"num_layers\": 3, \"hidden_size\": 32},\n",
    "    {\"epochs\": 20, \"num_layers\": 3, \"hidden_size\": 64},\n",
    "    {\"epochs\": 20, \"num_layers\": 3, \"hidden_size\": 128}\n",
    "]\n",
    "\n",
    "best_loss = float('inf')\n",
    "best_params = None\n",
    "best_predictor = None\n",
    "\n",
    "for params in param_grid:\n",
    "    loss, predictor = train_and_evaluate(params)\n",
    "    if loss < best_loss:\n",
    "        best_loss = loss\n",
    "        best_params = params\n",
    "        best_predictor = predictor\n",
    "\n",
    "print(f\"Best hyperparameters: {best_params}\")\n",
    "\n",
    "# Evaluate on the test set\n",
    "forecast_it, ts_it = make_evaluation_predictions(test_ds, predictor=best_predictor, num_samples=100)\n",
    "forecasts = list(forecast_it)\n",
    "tss = list(ts_it)\n"
   ]
  },
  {
   "cell_type": "code",
   "execution_count": 7,
   "metadata": {},
   "outputs": [
    {
     "ename": "AttributeError",
     "evalue": "'DataFrame' object has no attribute 'item_id'",
     "output_type": "error",
     "traceback": [
      "\u001b[0;31m---------------------------------------------------------------------------\u001b[0m",
      "\u001b[0;31mAttributeError\u001b[0m                            Traceback (most recent call last)",
      "\u001b[0;32m/tmp/ipykernel_31223/667277925.py\u001b[0m in \u001b[0;36m?\u001b[0;34m()\u001b[0m\n\u001b[1;32m     33\u001b[0m \u001b[0;34m\u001b[0m\u001b[0m\n\u001b[1;32m     34\u001b[0m \u001b[0;31m# Visualize results and calculate CRPS\u001b[0m\u001b[0;34m\u001b[0m\u001b[0;34m\u001b[0m\u001b[0m\n\u001b[1;32m     35\u001b[0m \u001b[0mall_crps\u001b[0m \u001b[0;34m=\u001b[0m \u001b[0;34m[\u001b[0m\u001b[0;34m]\u001b[0m\u001b[0;34m\u001b[0m\u001b[0;34m\u001b[0m\u001b[0m\n\u001b[1;32m     36\u001b[0m \u001b[0;32mfor\u001b[0m \u001b[0mi\u001b[0m\u001b[0;34m,\u001b[0m \u001b[0;34m(\u001b[0m\u001b[0mforecast\u001b[0m\u001b[0;34m,\u001b[0m \u001b[0mts\u001b[0m\u001b[0;34m)\u001b[0m \u001b[0;32min\u001b[0m \u001b[0menumerate\u001b[0m\u001b[0;34m(\u001b[0m\u001b[0mzip\u001b[0m\u001b[0;34m(\u001b[0m\u001b[0mforecasts\u001b[0m\u001b[0;34m,\u001b[0m \u001b[0mtss\u001b[0m\u001b[0;34m)\u001b[0m\u001b[0;34m)\u001b[0m\u001b[0;34m:\u001b[0m\u001b[0;34m\u001b[0m\u001b[0;34m\u001b[0m\u001b[0m\n\u001b[0;32m---> 37\u001b[0;31m     \u001b[0mtest_series\u001b[0m \u001b[0;34m=\u001b[0m \u001b[0mprocess_ts\u001b[0m\u001b[0;34m(\u001b[0m\u001b[0mts\u001b[0m\u001b[0;34m)\u001b[0m\u001b[0;34m\u001b[0m\u001b[0;34m\u001b[0m\u001b[0m\n\u001b[0m\u001b[1;32m     38\u001b[0m \u001b[0;34m\u001b[0m\u001b[0m\n\u001b[1;32m     39\u001b[0m     \u001b[0mplt\u001b[0m\u001b[0;34m.\u001b[0m\u001b[0mfigure\u001b[0m\u001b[0;34m(\u001b[0m\u001b[0mfigsize\u001b[0m\u001b[0;34m=\u001b[0m\u001b[0;34m(\u001b[0m\u001b[0;36m12\u001b[0m\u001b[0;34m,\u001b[0m \u001b[0;36m6\u001b[0m\u001b[0;34m)\u001b[0m\u001b[0;34m)\u001b[0m\u001b[0;34m\u001b[0m\u001b[0;34m\u001b[0m\u001b[0m\n\u001b[1;32m     40\u001b[0m \u001b[0;34m\u001b[0m\u001b[0m\n",
      "\u001b[0;32m/tmp/ipykernel_31223/667277925.py\u001b[0m in \u001b[0;36m?\u001b[0;34m(ts)\u001b[0m\n\u001b[1;32m     20\u001b[0m \u001b[0;32mdef\u001b[0m \u001b[0mprocess_ts\u001b[0m\u001b[0;34m(\u001b[0m\u001b[0mts\u001b[0m\u001b[0;34m)\u001b[0m\u001b[0;34m:\u001b[0m\u001b[0;34m\u001b[0m\u001b[0;34m\u001b[0m\u001b[0m\n\u001b[0;32m---> 21\u001b[0;31m     \u001b[0mitem_id\u001b[0m \u001b[0;34m=\u001b[0m \u001b[0mts\u001b[0m\u001b[0;34m.\u001b[0m\u001b[0mitem_id\u001b[0m\u001b[0;34m\u001b[0m\u001b[0;34m\u001b[0m\u001b[0m\n\u001b[0m\u001b[1;32m     22\u001b[0m     \u001b[0mstart_date\u001b[0m \u001b[0;34m=\u001b[0m \u001b[0mts\u001b[0m\u001b[0;34m.\u001b[0m\u001b[0mstart_date\u001b[0m\u001b[0;34m\u001b[0m\u001b[0;34m\u001b[0m\u001b[0m\n\u001b[1;32m     23\u001b[0m     \u001b[0mtarget\u001b[0m \u001b[0;34m=\u001b[0m \u001b[0mts\u001b[0m\u001b[0;34m.\u001b[0m\u001b[0mtarget\u001b[0m\u001b[0;34m\u001b[0m\u001b[0;34m\u001b[0m\u001b[0m\n\u001b[1;32m     24\u001b[0m \u001b[0;34m\u001b[0m\u001b[0m\n",
      "\u001b[0;32m~/Documentos/Unal/Maestria/1_Semestre/Series_Temporales/codigo/acciones/.venv/lib/python3.11/site-packages/pandas/core/generic.py\u001b[0m in \u001b[0;36m?\u001b[0;34m(self, name)\u001b[0m\n\u001b[1;32m   6295\u001b[0m             \u001b[0;32mand\u001b[0m \u001b[0mname\u001b[0m \u001b[0;32mnot\u001b[0m \u001b[0;32min\u001b[0m \u001b[0mself\u001b[0m\u001b[0;34m.\u001b[0m\u001b[0m_accessors\u001b[0m\u001b[0;34m\u001b[0m\u001b[0;34m\u001b[0m\u001b[0m\n\u001b[1;32m   6296\u001b[0m             \u001b[0;32mand\u001b[0m \u001b[0mself\u001b[0m\u001b[0;34m.\u001b[0m\u001b[0m_info_axis\u001b[0m\u001b[0;34m.\u001b[0m\u001b[0m_can_hold_identifiers_and_holds_name\u001b[0m\u001b[0;34m(\u001b[0m\u001b[0mname\u001b[0m\u001b[0;34m)\u001b[0m\u001b[0;34m\u001b[0m\u001b[0;34m\u001b[0m\u001b[0m\n\u001b[1;32m   6297\u001b[0m         ):\n\u001b[1;32m   6298\u001b[0m             \u001b[0;32mreturn\u001b[0m \u001b[0mself\u001b[0m\u001b[0;34m[\u001b[0m\u001b[0mname\u001b[0m\u001b[0;34m]\u001b[0m\u001b[0;34m\u001b[0m\u001b[0;34m\u001b[0m\u001b[0m\n\u001b[0;32m-> 6299\u001b[0;31m         \u001b[0;32mreturn\u001b[0m \u001b[0mobject\u001b[0m\u001b[0;34m.\u001b[0m\u001b[0m__getattribute__\u001b[0m\u001b[0;34m(\u001b[0m\u001b[0mself\u001b[0m\u001b[0;34m,\u001b[0m \u001b[0mname\u001b[0m\u001b[0;34m)\u001b[0m\u001b[0;34m\u001b[0m\u001b[0;34m\u001b[0m\u001b[0m\n\u001b[0m",
      "\u001b[0;31mAttributeError\u001b[0m: 'DataFrame' object has no attribute 'item_id'"
     ]
    }
   ],
   "source": [
    "import pandas as pd\n",
    "import matplotlib.pyplot as plt\n",
    "from gluonts.dataset.util import to_pandas\n",
    "import scoringrules as sr\n",
    "\n",
    "def safe_to_pandas(ts):\n",
    "    try:\n",
    "        return to_pandas(ts)\n",
    "    except KeyError as e:\n",
    "        return None\n",
    "\n",
    "# Evaluate on the test set\n",
    "forecast_it, ts_it = make_evaluation_predictions(test_ds, predictor=best_predictor, num_samples=100)\n",
    "forecasts = list(forecast_it)\n",
    "tss = list(ts_it)\n",
    "\n",
    "# Visualize results and calculate CRPS\n",
    "all_crps = []\n",
    "\n",
    "def process_ts(ts):\n",
    "    item_id = ts.item_id\n",
    "    start_date = ts.start_date\n",
    "    target = ts.target\n",
    "    \n",
    "    # Create a date range\n",
    "    date_range = pd.date_range(start=start_date, periods=len(target), freq=freq)\n",
    "    \n",
    "    # Create a DataFrame\n",
    "    df = pd.DataFrame({'date': date_range, 'value': target})\n",
    "    df.set_index('date', inplace=True)\n",
    "    \n",
    "    return df\n",
    "\n",
    "# Visualize results and calculate CRPS\n",
    "all_crps = []\n",
    "for i, (forecast, ts) in enumerate(zip(forecasts, tss)):\n",
    "    test_series = process_ts(ts)\n",
    "    \n",
    "    plt.figure(figsize=(12, 6))\n",
    "    \n",
    "    # Actual data\n",
    "    plt.plot(test_series.index, test_series.values, label='Actual data')\n",
    "    \n",
    "    # Mean forecast and confidence intervals\n",
    "    mean_forecast = forecast.mean\n",
    "    lower_quantiles = forecast.quantile(0.1)\n",
    "    upper_quantiles = forecast.quantile(0.9)\n",
    "    \n",
    "    forecast_index = pd.date_range(test_series.index[-1] + pd.Timedelta(hours=1), periods=len(mean_forecast), freq=freq)\n",
    "    plt.plot(forecast_index, mean_forecast, 'r-', label='Mean forecast')\n",
    "    plt.fill_between(forecast_index, lower_quantiles, upper_quantiles, color='r', alpha=0.3, label='Prediction interval (80%)')\n",
    "    \n",
    "    plt.legend()\n",
    "    plt.title(f'DeepAR Prediction for series {i+1}')\n",
    "    plt.xlabel('Time')\n",
    "    plt.ylabel('Value')\n",
    "    plt.show()\n",
    "    \n",
    "    # Histogram of prediction samples\n",
    "    plt.figure(figsize=(10, 6))\n",
    "    plt.hist(forecast.samples[:, -1], bins=30, density=True, alpha=0.7)\n",
    "    plt.axvline(mean_forecast[-1], color='r', linestyle='dashed', linewidth=2, label='Mean')\n",
    "    plt.axvline(lower_quantiles[-1], color='g', linestyle='dashed', linewidth=2, label='10% quantile')\n",
    "    plt.axvline(upper_quantiles[-1], color='g', linestyle='dashed', linewidth=2, label='90% quantile')\n",
    "    plt.title(f'Prediction distribution for series {i+1}')\n",
    "    plt.xlabel('Predicted value')\n",
    "    plt.ylabel('Density')\n",
    "    plt.legend()\n",
    "    plt.show()\n",
    "    \n",
    "    # Calculate CRPS\n",
    "    observations = test_series.values[-len(mean_forecast):]\n",
    "    forecast_ensemble = pd.DataFrame(forecast.samples.T)\n",
    "    crps = sr.crps_ensemble(observations, forecast_ensemble.values).mean()\n",
    "    print(f\"CRPS for series {i+1}: {crps:.4f}\")\n",
    "    all_crps.append(crps)\n",
    "    \n",
    "    if i == 4:  # Limit to 5 series to avoid generating too many plots\n",
    "        break\n",
    "\n",
    "# Calculate average CRPS\n",
    "if all_crps:\n",
    "    print(f\"Average CRPS on the test set: {np.mean(all_crps):.4f}\")\n",
    "else:\n",
    "    print(\"No valid CRPS scores were calculated.\")"
   ]
  }
 ],
 "metadata": {
  "kernelspec": {
   "display_name": ".venv",
   "language": "python",
   "name": "python3"
  },
  "language_info": {
   "codemirror_mode": {
    "name": "ipython",
    "version": 3
   },
   "file_extension": ".py",
   "mimetype": "text/x-python",
   "name": "python",
   "nbconvert_exporter": "python",
   "pygments_lexer": "ipython3",
   "version": "3.11.0"
  }
 },
 "nbformat": 4,
 "nbformat_minor": 2
}
