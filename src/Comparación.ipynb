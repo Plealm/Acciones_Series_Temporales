{
 "cells": [
  {
   "cell_type": "code",
   "execution_count": 3,
   "metadata": {},
   "outputs": [
    {
     "data": {
      "text/html": [
       "<div>\n",
       "<style scoped>\n",
       "    .dataframe tbody tr th:only-of-type {\n",
       "        vertical-align: middle;\n",
       "    }\n",
       "\n",
       "    .dataframe tbody tr th {\n",
       "        vertical-align: top;\n",
       "    }\n",
       "\n",
       "    .dataframe thead th {\n",
       "        text-align: right;\n",
       "    }\n",
       "</style>\n",
       "<table border=\"1\" class=\"dataframe\">\n",
       "  <thead>\n",
       "    <tr style=\"text-align: right;\">\n",
       "      <th></th>\n",
       "      <th>Family</th>\n",
       "      <th>Model</th>\n",
       "      <th>MSE</th>\n",
       "    </tr>\n",
       "  </thead>\n",
       "  <tbody>\n",
       "    <tr>\n",
       "      <th>0</th>\n",
       "      <td>LSTM</td>\n",
       "      <td>LSTM</td>\n",
       "      <td>0.273407</td>\n",
       "    </tr>\n",
       "    <tr>\n",
       "      <th>1</th>\n",
       "      <td>ETS</td>\n",
       "      <td>ETS(AAd)</td>\n",
       "      <td>0.273729</td>\n",
       "    </tr>\n",
       "    <tr>\n",
       "      <th>3</th>\n",
       "      <td>ARIMA</td>\n",
       "      <td>ARIMA(1,1,0)</td>\n",
       "      <td>0.273762</td>\n",
       "    </tr>\n",
       "    <tr>\n",
       "      <th>2</th>\n",
       "      <td>ETS</td>\n",
       "      <td>ETS(AA)</td>\n",
       "      <td>0.274045</td>\n",
       "    </tr>\n",
       "    <tr>\n",
       "      <th>4</th>\n",
       "      <td>ETS</td>\n",
       "      <td>ETS(AM)</td>\n",
       "      <td>0.274758</td>\n",
       "    </tr>\n",
       "    <tr>\n",
       "      <th>5</th>\n",
       "      <td>Neural Network</td>\n",
       "      <td>Neural Network</td>\n",
       "      <td>0.277535</td>\n",
       "    </tr>\n",
       "    <tr>\n",
       "      <th>6</th>\n",
       "      <td>Decision Tree</td>\n",
       "      <td>Decision Tree</td>\n",
       "      <td>0.344138</td>\n",
       "    </tr>\n",
       "  </tbody>\n",
       "</table>\n",
       "</div>"
      ],
      "text/plain": [
       "           Family           Model       MSE\n",
       "0            LSTM            LSTM  0.273407\n",
       "1             ETS        ETS(AAd)  0.273729\n",
       "3           ARIMA    ARIMA(1,1,0)  0.273762\n",
       "2             ETS         ETS(AA)  0.274045\n",
       "4             ETS         ETS(AM)  0.274758\n",
       "5  Neural Network  Neural Network  0.277535\n",
       "6   Decision Tree   Decision Tree  0.344138"
      ]
     },
     "execution_count": 3,
     "metadata": {},
     "output_type": "execute_result"
    }
   ],
   "source": [
    "import pandas as pd\n",
    "\n",
    "# Create the combined dataframe\n",
    "data = [\n",
    "    {\"Family\": \"LSTM\", \"Model\": \"LSTM\", \"MSE\": 0.273407},\n",
    "    {\"Family\": \"ETS\", \"Model\": \"ETS(AAd)\", \"MSE\": 0.273729},\n",
    "    {\"Family\": \"ETS\", \"Model\": \"ETS(AA)\", \"MSE\": 0.274045},\n",
    "    {\"Family\": \"ARIMA\", \"Model\": \"ARIMA(1,1,0)\", \"MSE\": 0.273762},\n",
    "    {\"Family\": \"ETS\", \"Model\": \"ETS(AM)\", \"MSE\": 0.274758},\n",
    "    {\"Family\": \"Neural Network\", \"Model\": \"Neural Network\", \"MSE\": 0.277535},\n",
    "    {\"Family\": \"Decision Tree\", \"Model\": \"Decision Tree\", \"MSE\": 0.344138}\n",
    "]\n",
    "\n",
    "df = pd.DataFrame(data)\n",
    "\n",
    "# Sort the dataframe by MSE in ascending order\n",
    "df_sorted = df.sort_values(\"MSE\")\n",
    "\n",
    "# Display the sorted dataframe\n",
    "df_sorted\n"
   ]
  },
  {
   "cell_type": "markdown",
   "metadata": {},
   "source": [
    "### Análisis de Resultados\n",
    "\n",
    "El LSTM y el ETS(AAd) han demostrado ser los modelos más efectivos para la serie temporal dada, con el menor MSE. El ARIMA(0,1,0) y los modelos ETS(AA) y ETS(AM) también tienen un buen desempeño, aunque con MSE ligeramente mayores. Los modelos de red neuronal y árbol de decisión, a pesar de su complejidad, no lograron superar a los modelos anteriormente mencionados en precisión. Esto sugiere que, para esta serie temporal en particular, los modelos que capturan tendencias y estacionalidades específicas (como LSTM y ETS) son más adecuados que los enfoques más generales o menos especializados.\n"
   ]
  }
 ],
 "metadata": {
  "kernelspec": {
   "display_name": ".venv",
   "language": "python",
   "name": "python3"
  },
  "language_info": {
   "codemirror_mode": {
    "name": "ipython",
    "version": 3
   },
   "file_extension": ".py",
   "mimetype": "text/x-python",
   "name": "python",
   "nbconvert_exporter": "python",
   "pygments_lexer": "ipython3",
   "version": "3.10.12"
  }
 },
 "nbformat": 4,
 "nbformat_minor": 2
}
